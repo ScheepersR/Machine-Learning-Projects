{
 "cells": [
  {
   "cell_type": "markdown",
   "metadata": {},
   "source": [
    "# <center>CITS5508 Final Project: Classifiying on MNIST Fashion dataset</center>\n",
    "\n",
    "**Name: Ruan Scheepers**<br>\n",
    "**Student number: 21980258**<br>\n",
    "**Date created:** May 1st 2019<br>\n",
    "**Last modified:** May 24th 2019<br>"
   ]
  },
  {
   "cell_type": "markdown",
   "metadata": {},
   "source": [
    "Below is the required imports and the plot function for the confusion matrix."
   ]
  },
  {
   "cell_type": "code",
   "execution_count": 1,
   "metadata": {},
   "outputs": [],
   "source": [
    "# Common imports\n",
    "import numpy as np\n",
    "import os\n",
    "import tensorflow as tf\n",
    "from sklearn.preprocessing import StandardScaler\n",
    "\n",
    "# to make this notebook's output stable across runs\n",
    "np.random.seed(42)\n",
    "\n",
    "# To plot the figures for visualisation\n",
    "%matplotlib inline\n",
    "import matplotlib as mpl\n",
    "import matplotlib.pyplot as plt\n",
    "mpl.rc('axes', labelsize=14)\n",
    "mpl.rc('xtick', labelsize=12)\n",
    "mpl.rc('ytick', labelsize=12)"
   ]
  },
  {
   "cell_type": "code",
   "execution_count": 2,
   "metadata": {},
   "outputs": [],
   "source": [
    "from sklearn.metrics import confusion_matrix\n",
    "from sklearn.metrics import f1_score\n",
    "from sklearn.model_selection import cross_val_predict\n",
    "from sklearn.model_selection import cross_val_score\n",
    "from sklearn.metrics import accuracy_score\n",
    "\n",
    "\n",
    "def plot_confusion_matrix(matrix, labels):\n",
    "    \n",
    "    print(labels)\n",
    "    \n",
    "    fig = plt.figure(figsize=(8,8))\n",
    "    ax = fig.add_subplot(111)\n",
    "    \n",
    "\n",
    "    \n",
    "    plt.setp(ax.get_xticklabels(), rotation=45, ha=\"right\",\n",
    "         rotation_mode=\"anchor\")\n",
    "    \n",
    "    cax = ax.matshow(matrix, cmap=plt.cm.gray)\n",
    "    \n",
    "    ax.set(xticks=np.arange(matrix.shape[1]),\n",
    "       yticks=np.arange(matrix.shape[0]),\n",
    "       xticklabels=labels, \n",
    "       yticklabels=labels,\n",
    "       title='Confustion Matrix',\n",
    "       ylabel='True',\n",
    "       xlabel='Predicted')\n",
    "\n",
    "    fig.colorbar(cax)\n",
    "\n",
    "    \n",
    "    thresh = matrix.max() / 2.\n",
    "    for i in range(matrix.shape[0]):\n",
    "        for j in range(matrix.shape[1]):\n",
    "            ax.text(j, i, format(matrix[i, j], 'd'),\n",
    "                    ha=\"center\", va=\"center\",\n",
    "                    color=\"white\" if matrix[i, j] < thresh else \"black\")\n",
    "    fig.tight_layout()"
   ]
  },
  {
   "cell_type": "markdown",
   "metadata": {},
   "source": [
    "## Load Data\n",
    "\n",
    "Loading the data from \"fashion-mnist_(test/train).csv\" and defining two functions to show the image for the corresponding pixels. These will be used to compare images in the Autoencoder. Since the data is already split into test and training data (that is evenly distributed over all labels) the data is ready to be used."
   ]
  },
  {
   "cell_type": "code",
   "execution_count": 3,
   "metadata": {},
   "outputs": [],
   "source": [
    "import pandas as pd\n",
    "\n",
    "## functions to retrieve the two data sets\n",
    "def load_testing():\n",
    "    csv_path = os.path.join(\"fashion-mnist_test.csv\")\n",
    "    return pd.read_csv(csv_path)\n",
    "\n",
    "def load_training():\n",
    "    csv_path = os.path.join(\"fashion-mnist_train.csv\")\n",
    "    return pd.read_csv(csv_path)"
   ]
  },
  {
   "cell_type": "code",
   "execution_count": 4,
   "metadata": {},
   "outputs": [
    {
     "data": {
      "text/html": [
       "<div>\n",
       "<style scoped>\n",
       "    .dataframe tbody tr th:only-of-type {\n",
       "        vertical-align: middle;\n",
       "    }\n",
       "\n",
       "    .dataframe tbody tr th {\n",
       "        vertical-align: top;\n",
       "    }\n",
       "\n",
       "    .dataframe thead th {\n",
       "        text-align: right;\n",
       "    }\n",
       "</style>\n",
       "<table border=\"1\" class=\"dataframe\">\n",
       "  <thead>\n",
       "    <tr style=\"text-align: right;\">\n",
       "      <th></th>\n",
       "      <th>label</th>\n",
       "      <th>pixel1</th>\n",
       "      <th>pixel2</th>\n",
       "      <th>pixel3</th>\n",
       "      <th>pixel4</th>\n",
       "      <th>pixel5</th>\n",
       "      <th>pixel6</th>\n",
       "      <th>pixel7</th>\n",
       "      <th>pixel8</th>\n",
       "      <th>pixel9</th>\n",
       "      <th>...</th>\n",
       "      <th>pixel775</th>\n",
       "      <th>pixel776</th>\n",
       "      <th>pixel777</th>\n",
       "      <th>pixel778</th>\n",
       "      <th>pixel779</th>\n",
       "      <th>pixel780</th>\n",
       "      <th>pixel781</th>\n",
       "      <th>pixel782</th>\n",
       "      <th>pixel783</th>\n",
       "      <th>pixel784</th>\n",
       "    </tr>\n",
       "  </thead>\n",
       "  <tbody>\n",
       "    <tr>\n",
       "      <th>0</th>\n",
       "      <td>2</td>\n",
       "      <td>0</td>\n",
       "      <td>0</td>\n",
       "      <td>0</td>\n",
       "      <td>0</td>\n",
       "      <td>0</td>\n",
       "      <td>0</td>\n",
       "      <td>0</td>\n",
       "      <td>0</td>\n",
       "      <td>0</td>\n",
       "      <td>...</td>\n",
       "      <td>0</td>\n",
       "      <td>0</td>\n",
       "      <td>0</td>\n",
       "      <td>0</td>\n",
       "      <td>0</td>\n",
       "      <td>0</td>\n",
       "      <td>0</td>\n",
       "      <td>0</td>\n",
       "      <td>0</td>\n",
       "      <td>0</td>\n",
       "    </tr>\n",
       "    <tr>\n",
       "      <th>1</th>\n",
       "      <td>9</td>\n",
       "      <td>0</td>\n",
       "      <td>0</td>\n",
       "      <td>0</td>\n",
       "      <td>0</td>\n",
       "      <td>0</td>\n",
       "      <td>0</td>\n",
       "      <td>0</td>\n",
       "      <td>0</td>\n",
       "      <td>0</td>\n",
       "      <td>...</td>\n",
       "      <td>0</td>\n",
       "      <td>0</td>\n",
       "      <td>0</td>\n",
       "      <td>0</td>\n",
       "      <td>0</td>\n",
       "      <td>0</td>\n",
       "      <td>0</td>\n",
       "      <td>0</td>\n",
       "      <td>0</td>\n",
       "      <td>0</td>\n",
       "    </tr>\n",
       "    <tr>\n",
       "      <th>2</th>\n",
       "      <td>6</td>\n",
       "      <td>0</td>\n",
       "      <td>0</td>\n",
       "      <td>0</td>\n",
       "      <td>0</td>\n",
       "      <td>0</td>\n",
       "      <td>0</td>\n",
       "      <td>0</td>\n",
       "      <td>5</td>\n",
       "      <td>0</td>\n",
       "      <td>...</td>\n",
       "      <td>0</td>\n",
       "      <td>0</td>\n",
       "      <td>0</td>\n",
       "      <td>30</td>\n",
       "      <td>43</td>\n",
       "      <td>0</td>\n",
       "      <td>0</td>\n",
       "      <td>0</td>\n",
       "      <td>0</td>\n",
       "      <td>0</td>\n",
       "    </tr>\n",
       "    <tr>\n",
       "      <th>3</th>\n",
       "      <td>0</td>\n",
       "      <td>0</td>\n",
       "      <td>0</td>\n",
       "      <td>0</td>\n",
       "      <td>1</td>\n",
       "      <td>2</td>\n",
       "      <td>0</td>\n",
       "      <td>0</td>\n",
       "      <td>0</td>\n",
       "      <td>0</td>\n",
       "      <td>...</td>\n",
       "      <td>3</td>\n",
       "      <td>0</td>\n",
       "      <td>0</td>\n",
       "      <td>0</td>\n",
       "      <td>0</td>\n",
       "      <td>1</td>\n",
       "      <td>0</td>\n",
       "      <td>0</td>\n",
       "      <td>0</td>\n",
       "      <td>0</td>\n",
       "    </tr>\n",
       "    <tr>\n",
       "      <th>4</th>\n",
       "      <td>3</td>\n",
       "      <td>0</td>\n",
       "      <td>0</td>\n",
       "      <td>0</td>\n",
       "      <td>0</td>\n",
       "      <td>0</td>\n",
       "      <td>0</td>\n",
       "      <td>0</td>\n",
       "      <td>0</td>\n",
       "      <td>0</td>\n",
       "      <td>...</td>\n",
       "      <td>0</td>\n",
       "      <td>0</td>\n",
       "      <td>0</td>\n",
       "      <td>0</td>\n",
       "      <td>0</td>\n",
       "      <td>0</td>\n",
       "      <td>0</td>\n",
       "      <td>0</td>\n",
       "      <td>0</td>\n",
       "      <td>0</td>\n",
       "    </tr>\n",
       "  </tbody>\n",
       "</table>\n",
       "<p>5 rows × 785 columns</p>\n",
       "</div>"
      ],
      "text/plain": [
       "   label  pixel1  pixel2  pixel3  pixel4  pixel5  pixel6  pixel7  pixel8  \\\n",
       "0      2       0       0       0       0       0       0       0       0   \n",
       "1      9       0       0       0       0       0       0       0       0   \n",
       "2      6       0       0       0       0       0       0       0       5   \n",
       "3      0       0       0       0       1       2       0       0       0   \n",
       "4      3       0       0       0       0       0       0       0       0   \n",
       "\n",
       "   pixel9  ...  pixel775  pixel776  pixel777  pixel778  pixel779  pixel780  \\\n",
       "0       0  ...         0         0         0         0         0         0   \n",
       "1       0  ...         0         0         0         0         0         0   \n",
       "2       0  ...         0         0         0        30        43         0   \n",
       "3       0  ...         3         0         0         0         0         1   \n",
       "4       0  ...         0         0         0         0         0         0   \n",
       "\n",
       "   pixel781  pixel782  pixel783  pixel784  \n",
       "0         0         0         0         0  \n",
       "1         0         0         0         0  \n",
       "2         0         0         0         0  \n",
       "3         0         0         0         0  \n",
       "4         0         0         0         0  \n",
       "\n",
       "[5 rows x 785 columns]"
      ]
     },
     "execution_count": 4,
     "metadata": {},
     "output_type": "execute_result"
    }
   ],
   "source": [
    "training_data = load_training() ##load the training data\n",
    "training_data.head() ##confirm the load was successful and view the columns"
   ]
  },
  {
   "cell_type": "code",
   "execution_count": 5,
   "metadata": {},
   "outputs": [
    {
     "data": {
      "text/html": [
       "<div>\n",
       "<style scoped>\n",
       "    .dataframe tbody tr th:only-of-type {\n",
       "        vertical-align: middle;\n",
       "    }\n",
       "\n",
       "    .dataframe tbody tr th {\n",
       "        vertical-align: top;\n",
       "    }\n",
       "\n",
       "    .dataframe thead th {\n",
       "        text-align: right;\n",
       "    }\n",
       "</style>\n",
       "<table border=\"1\" class=\"dataframe\">\n",
       "  <thead>\n",
       "    <tr style=\"text-align: right;\">\n",
       "      <th></th>\n",
       "      <th>label</th>\n",
       "      <th>pixel1</th>\n",
       "      <th>pixel2</th>\n",
       "      <th>pixel3</th>\n",
       "      <th>pixel4</th>\n",
       "      <th>pixel5</th>\n",
       "      <th>pixel6</th>\n",
       "      <th>pixel7</th>\n",
       "      <th>pixel8</th>\n",
       "      <th>pixel9</th>\n",
       "      <th>...</th>\n",
       "      <th>pixel775</th>\n",
       "      <th>pixel776</th>\n",
       "      <th>pixel777</th>\n",
       "      <th>pixel778</th>\n",
       "      <th>pixel779</th>\n",
       "      <th>pixel780</th>\n",
       "      <th>pixel781</th>\n",
       "      <th>pixel782</th>\n",
       "      <th>pixel783</th>\n",
       "      <th>pixel784</th>\n",
       "    </tr>\n",
       "  </thead>\n",
       "  <tbody>\n",
       "    <tr>\n",
       "      <th>0</th>\n",
       "      <td>0</td>\n",
       "      <td>0</td>\n",
       "      <td>0</td>\n",
       "      <td>0</td>\n",
       "      <td>0</td>\n",
       "      <td>0</td>\n",
       "      <td>0</td>\n",
       "      <td>0</td>\n",
       "      <td>9</td>\n",
       "      <td>8</td>\n",
       "      <td>...</td>\n",
       "      <td>103</td>\n",
       "      <td>87</td>\n",
       "      <td>56</td>\n",
       "      <td>0</td>\n",
       "      <td>0</td>\n",
       "      <td>0</td>\n",
       "      <td>0</td>\n",
       "      <td>0</td>\n",
       "      <td>0</td>\n",
       "      <td>0</td>\n",
       "    </tr>\n",
       "    <tr>\n",
       "      <th>1</th>\n",
       "      <td>1</td>\n",
       "      <td>0</td>\n",
       "      <td>0</td>\n",
       "      <td>0</td>\n",
       "      <td>0</td>\n",
       "      <td>0</td>\n",
       "      <td>0</td>\n",
       "      <td>0</td>\n",
       "      <td>0</td>\n",
       "      <td>0</td>\n",
       "      <td>...</td>\n",
       "      <td>34</td>\n",
       "      <td>0</td>\n",
       "      <td>0</td>\n",
       "      <td>0</td>\n",
       "      <td>0</td>\n",
       "      <td>0</td>\n",
       "      <td>0</td>\n",
       "      <td>0</td>\n",
       "      <td>0</td>\n",
       "      <td>0</td>\n",
       "    </tr>\n",
       "    <tr>\n",
       "      <th>2</th>\n",
       "      <td>2</td>\n",
       "      <td>0</td>\n",
       "      <td>0</td>\n",
       "      <td>0</td>\n",
       "      <td>0</td>\n",
       "      <td>0</td>\n",
       "      <td>0</td>\n",
       "      <td>14</td>\n",
       "      <td>53</td>\n",
       "      <td>99</td>\n",
       "      <td>...</td>\n",
       "      <td>0</td>\n",
       "      <td>0</td>\n",
       "      <td>0</td>\n",
       "      <td>0</td>\n",
       "      <td>63</td>\n",
       "      <td>53</td>\n",
       "      <td>31</td>\n",
       "      <td>0</td>\n",
       "      <td>0</td>\n",
       "      <td>0</td>\n",
       "    </tr>\n",
       "    <tr>\n",
       "      <th>3</th>\n",
       "      <td>2</td>\n",
       "      <td>0</td>\n",
       "      <td>0</td>\n",
       "      <td>0</td>\n",
       "      <td>0</td>\n",
       "      <td>0</td>\n",
       "      <td>0</td>\n",
       "      <td>0</td>\n",
       "      <td>0</td>\n",
       "      <td>0</td>\n",
       "      <td>...</td>\n",
       "      <td>137</td>\n",
       "      <td>126</td>\n",
       "      <td>140</td>\n",
       "      <td>0</td>\n",
       "      <td>133</td>\n",
       "      <td>224</td>\n",
       "      <td>222</td>\n",
       "      <td>56</td>\n",
       "      <td>0</td>\n",
       "      <td>0</td>\n",
       "    </tr>\n",
       "    <tr>\n",
       "      <th>4</th>\n",
       "      <td>3</td>\n",
       "      <td>0</td>\n",
       "      <td>0</td>\n",
       "      <td>0</td>\n",
       "      <td>0</td>\n",
       "      <td>0</td>\n",
       "      <td>0</td>\n",
       "      <td>0</td>\n",
       "      <td>0</td>\n",
       "      <td>0</td>\n",
       "      <td>...</td>\n",
       "      <td>0</td>\n",
       "      <td>0</td>\n",
       "      <td>0</td>\n",
       "      <td>0</td>\n",
       "      <td>0</td>\n",
       "      <td>0</td>\n",
       "      <td>0</td>\n",
       "      <td>0</td>\n",
       "      <td>0</td>\n",
       "      <td>0</td>\n",
       "    </tr>\n",
       "  </tbody>\n",
       "</table>\n",
       "<p>5 rows × 785 columns</p>\n",
       "</div>"
      ],
      "text/plain": [
       "   label  pixel1  pixel2  pixel3  pixel4  pixel5  pixel6  pixel7  pixel8  \\\n",
       "0      0       0       0       0       0       0       0       0       9   \n",
       "1      1       0       0       0       0       0       0       0       0   \n",
       "2      2       0       0       0       0       0       0      14      53   \n",
       "3      2       0       0       0       0       0       0       0       0   \n",
       "4      3       0       0       0       0       0       0       0       0   \n",
       "\n",
       "   pixel9  ...  pixel775  pixel776  pixel777  pixel778  pixel779  pixel780  \\\n",
       "0       8  ...       103        87        56         0         0         0   \n",
       "1       0  ...        34         0         0         0         0         0   \n",
       "2      99  ...         0         0         0         0        63        53   \n",
       "3       0  ...       137       126       140         0       133       224   \n",
       "4       0  ...         0         0         0         0         0         0   \n",
       "\n",
       "   pixel781  pixel782  pixel783  pixel784  \n",
       "0         0         0         0         0  \n",
       "1         0         0         0         0  \n",
       "2        31         0         0         0  \n",
       "3       222        56         0         0  \n",
       "4         0         0         0         0  \n",
       "\n",
       "[5 rows x 785 columns]"
      ]
     },
     "execution_count": 5,
     "metadata": {},
     "output_type": "execute_result"
    }
   ],
   "source": [
    "testing_data = load_testing()\n",
    "testing_data.head()##confirm the load was successful and view the columns"
   ]
  },
  {
   "cell_type": "code",
   "execution_count": 6,
   "metadata": {},
   "outputs": [],
   "source": [
    "def plot_image(data):\n",
    "    image = data.values.reshape(28, 28)\n",
    "    plt.imshow(image, cmap = mpl.cm.binary,\n",
    "               interpolation=\"nearest\")\n",
    "    plt.axis(\"off\")\n",
    "    plt.show()"
   ]
  },
  {
   "cell_type": "code",
   "execution_count": 7,
   "metadata": {},
   "outputs": [],
   "source": [
    "def plot_image_from_array(data):\n",
    "    image = data.reshape(28, 28)\n",
    "    plt.imshow(image, cmap = mpl.cm.binary,\n",
    "               interpolation=\"nearest\")\n",
    "    plt.axis(\"off\")"
   ]
  },
  {
   "cell_type": "code",
   "execution_count": 8,
   "metadata": {},
   "outputs": [],
   "source": [
    "train_features = training_data.copy()\n",
    "test_features = testing_data.copy()"
   ]
  },
  {
   "cell_type": "code",
   "execution_count": 9,
   "metadata": {},
   "outputs": [],
   "source": [
    "train_features = train_features.drop(\"label\", axis = 1)\n",
    "test_features = test_features.drop(\"label\", axis = 1)\n",
    "\n",
    "train_labels = training_data[\"label\"];\n",
    "test_labels = testing_data[\"label\"];"
   ]
  },
  {
   "cell_type": "code",
   "execution_count": 10,
   "metadata": {},
   "outputs": [],
   "source": [
    "some_image = train_features.loc[1:5,:]"
   ]
  },
  {
   "cell_type": "code",
   "execution_count": 11,
   "metadata": {},
   "outputs": [
    {
     "data": {
      "image/png": "[encoded data removed]",
      "text/plain": [
       "<Figure size 432x288 with 1 Axes>"
      ]
     },
     "metadata": {
      "needs_background": "light"
     },
     "output_type": "display_data"
    },
    {
     "data": {
      "image/png": "[encoded data removed]",
      "text/plain": [
       "<Figure size 432x288 with 1 Axes>"
      ]
     },
     "metadata": {
      "needs_background": "light"
     },
     "output_type": "display_data"
    },
    {
     "data": {
      "image/png": "[encoded data removed]",
      "text/plain": [
       "<Figure size 432x288 with 1 Axes>"
      ]
     },
     "metadata": {
      "needs_background": "light"
     },
     "output_type": "display_data"
    },
    {
     "data": {
      "image/png": "[encoded data removed]",
      "text/plain": [
       "<Figure size 432x288 with 1 Axes>"
      ]
     },
     "metadata": {
      "needs_background": "light"
     },
     "output_type": "display_data"
    }
   ],
   "source": [
    "for i in range(1,5):\n",
    "    plot_image(some_image.loc[i,:]) #Test the plot_image function."
   ]
  },
  {
   "cell_type": "code",
   "execution_count": 12,
   "metadata": {},
   "outputs": [
    {
     "data": {
      "text/plain": [
       "9    6000\n",
       "8    6000\n",
       "7    6000\n",
       "6    6000\n",
       "5    6000\n",
       "4    6000\n",
       "3    6000\n",
       "2    6000\n",
       "1    6000\n",
       "0    6000\n",
       "Name: label, dtype: int64"
      ]
     },
     "execution_count": 12,
     "metadata": {},
     "output_type": "execute_result"
    }
   ],
   "source": [
    "training_data[\"label\"].value_counts()"
   ]
  },
  {
   "cell_type": "markdown",
   "metadata": {},
   "source": [
    "## Performance Measure\n",
    "\n",
    "The performance will be measure in the following ways: \n",
    "\n",
    "Accuracy: How often the predicted label matches the true label.\n",
    "\n",
    "F1_score: This is a better measure of accuracy as it incorporates false positives and false negatives. It's a 'weighted average' between precision and recall. Note it does reward models that have similar precision and recall (sometimes the context demands cases where we prefer precision or recall and willing to make a tradeoff).\n",
    "\n",
    "Confusion Matrices: Finally we will be analysing the confusion matrices, this shows the true labels and misslables of the model, it can highlight a particular class being prone to misslabeling ect."
   ]
  },
  {
   "cell_type": "markdown",
   "metadata": {},
   "source": [
    "## Multi-layer perceptron.\n",
    "\n",
    "Training the MLP classifier I started with a basic 1 hidden layer with 250 neurons. A single hidden layer can often work for complex situations. For this first model, I also used the `Adam Optimizer` with \"1e-4\" as a random starting point. With the rest as the defaults.(Relu activation) This scored f1 score of about 77%.\n",
    "\n",
    "The DNNClassifier calculates <b> Loss </b> by using softmax cross entropy.\n",
    "\n",
    "Then for some fine tuning I tried the following hyperparamater fields. For the choice of hidden layers, the first choice is to check the performance of a single layer. The second of the 'stretch pants' philosophy and the third the 'funnel' philosophy.\n",
    "\n",
    "Optimizers: Adam Optimizer and AdaGrad Optimizer\n",
    "\n",
    "Hidden Layers: [250], [250,250], [1024, 512, 256]\n",
    "\n",
    "Dropout: None or 0.1\n",
    "\n",
    "Below is the winning selection."
   ]
  },
  {
   "cell_type": "code",
   "execution_count": 61,
   "metadata": {},
   "outputs": [
    {
     "name": "stderr",
     "output_type": "stream",
     "text": [
      "C:\\Users\\schee\\.conda\\envs\\mlenvTensor\\lib\\site-packages\\sklearn\\preprocessing\\data.py:625: DataConversionWarning: Data with input dtype int64 were all converted to float64 by StandardScaler.\n",
      "  return self.partial_fit(X, y)\n",
      "C:\\Users\\schee\\.conda\\envs\\mlenvTensor\\lib\\site-packages\\sklearn\\base.py:462: DataConversionWarning: Data with input dtype int64 were all converted to float64 by StandardScaler.\n",
      "  return self.fit(X, **fit_params).transform(X)\n",
      "C:\\Users\\schee\\.conda\\envs\\mlenvTensor\\lib\\site-packages\\ipykernel_launcher.py:7: DataConversionWarning: Data with input dtype int64 were all converted to float64 by StandardScaler.\n",
      "  import sys\n"
     ]
    }
   ],
   "source": [
    "#scale the input and prepare the column keys\n",
    "\n",
    "from sklearn.preprocessing import StandardScaler\n",
    "\n",
    "scaler = StandardScaler()\n",
    "X_train_standard = scaler.fit_transform(train_features)\n",
    "X_test_standard = scaler.transform(test_features)\n",
    "\n",
    "feature_cols = [tf.feature_column.numeric_column(key='image',shape=(784,))]\n",
    "\n",
    "\n",
    "input_fn_train=tf.estimator.inputs.numpy_input_fn(\n",
    "    x=dict({'image':X_train_standard}),\n",
    "    y=train_labels.values,\n",
    "    shuffle=True)"
   ]
  },
  {
   "cell_type": "code",
   "execution_count": 62,
   "metadata": {},
   "outputs": [
    {
     "name": "stdout",
     "output_type": "stream",
     "text": [
      "You can retrain the whole model or retrieve one that has already trained on 100000 steps, below it will train just 1 more step from a checkpoint to show the training is functional, it will load from a current checkpoint. Press 'n' to use the existing model\n",
      "Retraining the MLP model (y/n)? n\n",
      "INFO:tensorflow:Using default config.\n",
      "INFO:tensorflow:Using config: {'_model_dir': './Scheepers_Ruan_files/mlp_clf_model', '_tf_random_seed': None, '_save_summary_steps': 100, '_save_checkpoints_steps': None, '_save_checkpoints_secs': 600, '_session_config': allow_soft_placement: true\n",
      "graph_options {\n",
      "  rewrite_options {\n",
      "    meta_optimizer_iterations: ONE\n",
      "  }\n",
      "}\n",
      ", '_keep_checkpoint_max': 5, '_keep_checkpoint_every_n_hours': 10000, '_log_step_count_steps': 100, '_train_distribute': None, '_device_fn': None, '_protocol': None, '_eval_distribute': None, '_experimental_distribute': None, '_service': None, '_cluster_spec': <tensorflow.python.training.server_lib.ClusterSpec object at 0x0000020ABA500128>, '_task_type': 'worker', '_task_id': 0, '_global_id_in_cluster': 0, '_master': '', '_evaluation_master': '', '_is_chief': True, '_num_ps_replicas': 0, '_num_worker_replicas': 1}\n"
     ]
    }
   ],
   "source": [
    "\n",
    "print(\"You can retrain the whole model or retrieve one that has already trained on 100000 steps, below it will train just 1 more step from a checkpoint to show the training is functional, it will load from a current checkpoint. Press 'n' to use the existing model\")\n",
    "answer = input(\"Retraining the MLP model (y/n)? \")\n",
    "\n",
    "\n",
    "\n",
    "if answer == \"y\":\n",
    "# train the MLP using the training set\n",
    "    mlp_clf = tf.estimator.DNNClassifier(\n",
    "        feature_columns=feature_cols,\n",
    "        hidden_units=[1024, 512, 256],\n",
    "        optimizer=tf.train.AdamOptimizer(1e-4),\n",
    "        n_classes=10,\n",
    "        model_dir=\"./Scheepers_Ruan_files/mlp_clf2_model\" #making a new directory so it does not overide the other model incase it needs to be assessed.\n",
    "    )  \n",
    "    mlp_clf.train(input_fn=input_fn_train, steps=50000)\n",
    "\n",
    "else:\n",
    "# restore the model\n",
    "    mlp_clf = tf.estimator.DNNClassifier(\n",
    "        feature_columns=feature_cols,\n",
    "        hidden_units=[1024, 512, 256],\n",
    "        optimizer=tf.train.AdamOptimizer(1e-4),\n",
    "        n_classes=10,\n",
    "        model_dir=\"./Scheepers_Ruan_files/mlp_clf_model\" # points to the already trained model\n",
    "    )  \n",
    "    \n"
   ]
  },
  {
   "cell_type": "markdown",
   "metadata": {},
   "source": [
    "The tf.estimator class automatically saves checkpoints at the start, and end of training. Any subsequent calls to the estimators 'Predict', 'Train' or 'Evaluate' function uses the will automatically restore from the latest checkpoint (if given the path like we did above.) Below is just an example of how we would manually restore the the paramaters. "
   ]
  },
  {
   "cell_type": "code",
   "execution_count": 63,
   "metadata": {},
   "outputs": [
    {
     "name": "stdout",
     "output_type": "stream",
     "text": [
      "Path to the latest checkpoint for the chosed model above : \n",
      "./Scheepers_Ruan_files/mlp_clf_model\\model.ckpt-939\n",
      "\n",
      " Manually loading paramaters from a saved model : \n",
      "\n",
      "INFO:tensorflow:Restoring parameters from ./Scheepers_Ruan_files/mlp_clf_model\\model.ckpt-938\n"
     ]
    }
   ],
   "source": [
    "print(\"Path to the latest checkpoint for the chosed model above : \")\n",
    "print(mlp_clf.latest_checkpoint())\n",
    "\n",
    "print(\"\\n Manually loading paramaters from a saved model : \\n\")\n",
    "\n",
    "new_graph = tf.Graph()\n",
    "with tf.Session(graph=new_graph) as sess:\n",
    "    new_saver = tf.train.import_meta_graph('./Scheepers_Ruan_files/mlp_clf_model/model.ckpt-938.meta')\n",
    "    new_saver.restore(sess, \"./Scheepers_Ruan_files/mlp_clf_model\\model.ckpt-938\")\n",
    "    "
   ]
  },
  {
   "cell_type": "code",
   "execution_count": 65,
   "metadata": {},
   "outputs": [
    {
     "name": "stdout",
     "output_type": "stream",
     "text": [
      "INFO:tensorflow:Calling model_fn.\n",
      "INFO:tensorflow:Done calling model_fn.\n",
      "INFO:tensorflow:Create CheckpointSaverHook.\n",
      "INFO:tensorflow:Graph was finalized.\n",
      "INFO:tensorflow:Restoring parameters from ./Scheepers_Ruan_files/mlp_clf_model\\model.ckpt-1408\n",
      "INFO:tensorflow:Running local_init_op.\n",
      "INFO:tensorflow:Done running local_init_op.\n",
      "INFO:tensorflow:Saving checkpoints for 1408 into ./Scheepers_Ruan_files/mlp_clf_model\\model.ckpt.\n",
      "INFO:tensorflow:loss = 23.530819, step = 1409\n",
      "INFO:tensorflow:global_step/sec: 52.3043\n",
      "INFO:tensorflow:loss = 31.881264, step = 1509 (1.913 sec)\n",
      "INFO:tensorflow:global_step/sec: 57.4273\n",
      "INFO:tensorflow:loss = 35.778435, step = 1609 (1.741 sec)\n",
      "INFO:tensorflow:global_step/sec: 58.8424\n",
      "INFO:tensorflow:loss = 30.891426, step = 1709 (1.700 sec)\n",
      "INFO:tensorflow:global_step/sec: 54.7611\n",
      "INFO:tensorflow:loss = 29.516483, step = 1809 (1.825 sec)\n",
      "INFO:tensorflow:Saving checkpoints for 1877 into ./Scheepers_Ruan_files/mlp_clf_model\\model.ckpt.\n",
      "INFO:tensorflow:Loss for final step: 18.467888.\n"
     ]
    },
    {
     "data": {
      "text/plain": [
       "<tensorflow_estimator.python.estimator.canned.dnn.DNNClassifier at 0x20abc007630>"
      ]
     },
     "execution_count": 65,
     "metadata": {},
     "output_type": "execute_result"
    }
   ],
   "source": [
    "## WILL train a few more step starting from the previous checkpoint to show that training is functional\n",
    "\n",
    "mlp_clf.train(input_fn_train, steps=500)"
   ]
  },
  {
   "cell_type": "code",
   "execution_count": 66,
   "metadata": {
    "scrolled": true
   },
   "outputs": [
    {
     "name": "stdout",
     "output_type": "stream",
     "text": [
      "INFO:tensorflow:Calling model_fn.\n",
      "INFO:tensorflow:Done calling model_fn.\n",
      "INFO:tensorflow:Starting evaluation at 2019-05-26T07:24:54Z\n",
      "INFO:tensorflow:Graph was finalized.\n",
      "INFO:tensorflow:Restoring parameters from ./Scheepers_Ruan_files/mlp_clf_model\\model.ckpt-1877\n",
      "INFO:tensorflow:Running local_init_op.\n",
      "INFO:tensorflow:Done running local_init_op.\n",
      "INFO:tensorflow:Finished evaluation at 2019-05-26-07:24:55\n",
      "INFO:tensorflow:Saving dict for global step 1877: accuracy = 0.8915, average_loss = 0.2913599, global_step = 1877, loss = 36.881\n",
      "INFO:tensorflow:Saving 'checkpoint_path' summary for global step 1877: ./Scheepers_Ruan_files/mlp_clf_model\\model.ckpt-1877\n",
      "\n",
      "Test Accuracy: 89.150000%\n",
      "\n"
     ]
    }
   ],
   "source": [
    "# Evaluate accuracy\n",
    "\n",
    "input_fn_test = tf.estimator.inputs.numpy_input_fn(\n",
    "    x=dict({'image':X_test_standard}),\n",
    "    y=test_labels,\n",
    "    num_epochs=1,\n",
    "    shuffle=False)\n",
    "\n",
    "\n",
    "eval_testData = mlp_clf.evaluate(input_fn=input_fn_test)\n",
    "accuracy = eval_testData[\"accuracy\"]\n",
    "print(\"\\nTest Accuracy: {0:f}%\\n\".format(accuracy*100))\n",
    "\n"
   ]
  },
  {
   "cell_type": "code",
   "execution_count": 18,
   "metadata": {},
   "outputs": [
    {
     "name": "stdout",
     "output_type": "stream",
     "text": [
      "INFO:tensorflow:Calling model_fn.\n",
      "INFO:tensorflow:Done calling model_fn.\n",
      "INFO:tensorflow:Graph was finalized.\n",
      "INFO:tensorflow:Restoring parameters from ./Scheepers_Ruan_files/mlp_clf_model\\model.ckpt-939\n",
      "INFO:tensorflow:Running local_init_op.\n",
      "INFO:tensorflow:Done running local_init_op.\n"
     ]
    }
   ],
   "source": [
    "predicted = mlp_clf.predict(input_fn_test)\n",
    "predictions = [p['class_ids'][0] for p in predicted]"
   ]
  },
  {
   "cell_type": "code",
   "execution_count": 19,
   "metadata": {},
   "outputs": [],
   "source": [
    "matrix_test = confusion_matrix(list(test_labels), predictions)"
   ]
  },
  {
   "cell_type": "code",
   "execution_count": 22,
   "metadata": {},
   "outputs": [
    {
     "name": "stdout",
     "output_type": "stream",
     "text": [
      "f1 score macro : 0.8837392345835793\n",
      "['0', '1', '2', '3', '4', '5', '6', '7', '8', '9']\n"
     ]
    },
    {
     "data": {
      "image/png": "[encoded data removed]",
      "text/plain": [
       "<Figure size 576x576 with 2 Axes>"
      ]
     },
     "metadata": {
      "needs_background": "light"
     },
     "output_type": "display_data"
    }
   ],
   "source": [
    "print(\"f1 score macro :\",f1_score(test_labels, predictions, average='macro'))\n",
    "plot_confusion_matrix(matrix_test, [\"0\",\"1\",\"2\",\"3\",\"4\",\"5\",\"6\",\"7\",\"8\",\"9\"])"
   ]
  },
  {
   "cell_type": "markdown",
   "metadata": {},
   "source": [
    "## Autoencoder\n",
    "\n",
    "Neural networks can take a long time training, especially having so many hyperparamaters to tune. This autoencoder below will be used to reduce the dimensionality of our 784 features down to 150.\n",
    "\n",
    "I will be making a stacked autoencoder with the following structure:\n",
    "***\n",
    "<p> Input &rarr; Hidden Layer1 (300 units) &rarr; Hidden Layer 2 <b> The codings layer </b> (150 units) &rarr; Hidden Layer 3 (300 units) &rarr; Output </p>\n",
    "\n",
    "***\n",
    "\n",
    "Since the encoder is symmetrical the weights of the 'decoder' can be tied to the weights of the encoder. This will reduce the training time (less weights) and reduce the risk of overfitting.\n",
    "\n",
    "For the activation function I will use the ELU activation function. This should help with any cases of the vanishing/exploding gradient problems.\n",
    "\n",
    "The \"He initializer\" will be used.\n",
    "\n",
    "\n",
    "We will be adding a 'l2' regularlizing term to the loss function to prevent overfitting. Finally the autoencoder will use the Adam Optimizer to minimize our loss. \n"
   ]
  },
  {
   "cell_type": "code",
   "execution_count": 23,
   "metadata": {},
   "outputs": [],
   "source": [
    "## A function that reconstructs the images using the decoder. Used to compare the original photo to the decoded photo.\n",
    "def show_reconstructed_digits(X, outputs, model_path = None, n_test_digits = 4):\n",
    "    with tf.Session() as sess:\n",
    "        if model_path:\n",
    "            saver.restore(sess, model_path)  ## Restore the paramaters from the saved model.\n",
    "        X_test = x_test[:n_test_digits]\n",
    "        outputs_val = outputs.eval(feed_dict={X: X_test})\n",
    "\n",
    "    fig = plt.figure(figsize=(8, 3 * n_test_digits))\n",
    "    for digit_index in range(n_test_digits):\n",
    "        plt.subplot(n_test_digits, 2, digit_index * 2 + 1)\n",
    "        plot_image_from_array(X_test[digit_index])\n",
    "        plt.subplot(n_test_digits, 2, digit_index * 2 + 2)\n",
    "        plot_image_from_array(outputs_val[digit_index])"
   ]
  },
  {
   "cell_type": "code",
   "execution_count": 24,
   "metadata": {},
   "outputs": [],
   "source": [
    "#The stacked layer structure.\n",
    "n_inputs = 28 * 28\n",
    "n_hidden1 = 300\n",
    "n_hidden2 = 150  # the codings layer, Reducing down to 150 features.\n",
    "n_hidden3 = n_hidden1\n",
    "n_outputs = n_inputs\n",
    "\n",
    "\n",
    "# Turns the data into numpy.ndarray type for below\n",
    "x_train = train_features.values\n",
    "x_test = test_features.values\n",
    "\n",
    "# Prepare input \n",
    "x_train = x_train.astype('float32') / 255.\n",
    "x_test = x_test.astype('float32') / 255.\n",
    "x_train = x_train.reshape((len(x_train), np.prod(x_train.shape[1:])))\n",
    "x_test = x_test.reshape((len(x_test), np.prod(x_test.shape[1:])))\n",
    "\n",
    "\n",
    "#Prepare the paramaters\n",
    "learning_rate = 0.01\n",
    "l2_reg = 0.0005\n",
    "\n",
    "#Prepare the ELU activation function\n",
    "activation = tf.nn.elu\n",
    "\n",
    "#The He-initializer NOTE:The contrib has a predefined He-initialiser, the text book noted below as an alternative.\n",
    "initializer = lambda shape, dtype=tf.float32: tf.truncated_normal(shape, 0., stddev=np.sqrt(2/shape[0]))\n",
    "\n",
    "#Placeholder for the input\n",
    "X = tf.placeholder(tf.float32, shape=[None, n_inputs])\n",
    "\n",
    "\n",
    "#I used the weights below as a 'random' initialiser to compare the the HE-intialiser and the He-intializer out performed the random significantly.\n",
    "\n",
    "#weights1_init = tf.Variable(tf.random_normal([n_inputs, n_hidden1])) \n",
    "#weights2_init = tf.Variable(tf.random_normal([n_hidden1, n_hidden2]))\n",
    "\n",
    "#Set up the weights and biases, NOTE the weights 3,4 are tied.\n",
    "weights1_init = initializer([n_inputs, n_hidden1])\n",
    "weights2_init = initializer([n_hidden1, n_hidden2])\n",
    "\n",
    "weights1 = tf.Variable(weights1_init, dtype=tf.float32, name=\"weights1\")\n",
    "weights2 = tf.Variable(weights2_init, dtype=tf.float32, name=\"weights2\")\n",
    "weights3 = tf.transpose(weights2, name=\"weights3\")  # tied weights\n",
    "weights4 = tf.transpose(weights1, name=\"weights4\")  # tied weights\n",
    "\n",
    "biases1 = tf.Variable(tf.zeros(n_hidden1), name=\"biases1\")\n",
    "biases2 = tf.Variable(tf.zeros(n_hidden2), name=\"biases2\")\n",
    "biases3 = tf.Variable(tf.zeros(n_hidden3), name=\"biases3\")\n",
    "biases4 = tf.Variable(tf.zeros(n_outputs), name=\"biases4\")\n",
    "\n",
    "#prepare the hidden layers.\n",
    "hidden1 = activation(tf.matmul(X, weights1) + biases1)\n",
    "hidden2 = activation(tf.matmul(hidden1, weights2) + biases2)\n",
    "hidden3 = activation(tf.matmul(hidden2, weights3) + biases3)\n",
    "outputs = tf.matmul(hidden3, weights4) + biases4\n",
    "\n",
    "reconstruction_loss = tf.reduce_mean(tf.square(outputs - X))\n",
    "\n",
    "#Get the regularisation loss and add it to our cost function.\n",
    "reg_loss = tf.nn.l2_loss(weights1) + tf.nn.l2_loss(weights2)\n",
    "loss = tf.reduce_mean(reconstruction_loss + l2_reg * reg_loss) #loss uses both the reconstruction loss and our l2 regularisation\n",
    "\n",
    "#finally set up the optimizer\n",
    "optimizer = tf.train.AdamOptimizer(learning_rate)\n",
    "training_op = optimizer.minimize(loss)\n",
    "\n",
    "init = tf.global_variables_initializer()"
   ]
  },
  {
   "cell_type": "markdown",
   "metadata": {},
   "source": [
    "## Train the Autoencoder "
   ]
  },
  {
   "cell_type": "code",
   "execution_count": 25,
   "metadata": {},
   "outputs": [
    {
     "name": "stdout",
     "output_type": "stream",
     "text": [
      "0 Train MSE: 0.020729747\n",
      "1 Train MSE: 0.020821728\n",
      "29% Train MSE: 0.021207415\n",
      "3 Train MSE: 0.021534739\n",
      "4 Train MSE: 0.022068366\n"
     ]
    }
   ],
   "source": [
    "saver = tf.train.Saver()\n",
    "\n",
    "n_epochs = 5\n",
    "batch_size = 100\n",
    "\n",
    "#with 5 epochs takes about 20 seconds\n",
    "with tf.Session() as sess:\n",
    "    init.run()\n",
    "    for epoch in range(n_epochs):\n",
    "        ##Calculate the number of batches and run the training data through the encoder.\n",
    "        n_batches= int(x_train.shape[0]/batch_size) \n",
    "        for i in range(n_batches):\n",
    "            print(\"\\r{}%\".format(100 * i // n_batches), end=\"\")\n",
    "            epoch_input = x_train[ i * batch_size : (i + 1) * batch_size ]\n",
    "            sess.run(training_op, feed_dict={X: epoch_input})\n",
    "        loss_train = reconstruction_loss.eval(feed_dict={X: epoch_input})\n",
    "        print(\"\\r{}\".format(epoch), \"Train MSE:\", loss_train)\n",
    "        saver.save(sess, \"./Scheepers_Ruan_files/auto.ckpt\")  ## SAVE THE MODEL \n",
    "        "
   ]
  },
  {
   "cell_type": "code",
   "execution_count": 26,
   "metadata": {},
   "outputs": [
    {
     "name": "stdout",
     "output_type": "stream",
     "text": [
      "INFO:tensorflow:Restoring parameters from ./Scheepers_Ruan_files/auto.ckpt\n"
     ]
    },
    {
     "data": {
      "image/png": "[encoded data removed]",
      "text/plain": [
       "<Figure size 576x864 with 8 Axes>"
      ]
     },
     "metadata": {
      "needs_background": "light"
     },
     "output_type": "display_data"
    }
   ],
   "source": [
    "show_reconstructed_digits(X, outputs, \"./Scheepers_Ruan_files/auto.ckpt\")"
   ]
  },
  {
   "cell_type": "markdown",
   "metadata": {},
   "source": [
    "## Autoencoder used with MLP"
   ]
  },
  {
   "cell_type": "code",
   "execution_count": 27,
   "metadata": {},
   "outputs": [],
   "source": [
    "## Ready the data \n",
    "\n",
    "\n",
    "x_train = train_features.values\n",
    "x_test = test_features.values\n",
    "\n",
    "\n",
    "x_train = x_train.astype('float32') / 255.\n",
    "x_test = x_test.astype('float32') / 255.\n",
    "x_train = x_train.reshape((len(x_train), np.prod(x_train.shape[1:])))\n",
    "x_test = x_test.reshape((len(x_test), np.prod(x_test.shape[1:])))"
   ]
  },
  {
   "cell_type": "markdown",
   "metadata": {},
   "source": [
    "## Reduce Features\n",
    "\n",
    "The function below loads the autoencoder from the given path, and converts the data to appropriate 'layer' so to encode the data we will pass 'hidden2'.\n",
    "\n",
    "So the training features will be reduced and the above model will be retrained on the new set. The training time was significantly reduced and performance shown below."
   ]
  },
  {
   "cell_type": "code",
   "execution_count": 28,
   "metadata": {},
   "outputs": [],
   "source": [
    "def reduce_features(X, outputs, features, model_path = None):\n",
    "    with tf.Session() as sess:\n",
    "        if model_path:\n",
    "            saver.restore(sess, model_path)\n",
    "        X_test = features\n",
    "        outputs_val = outputs.eval(feed_dict={X: X_test})\n",
    "    return outputs_val"
   ]
  },
  {
   "cell_type": "code",
   "execution_count": 29,
   "metadata": {},
   "outputs": [
    {
     "name": "stdout",
     "output_type": "stream",
     "text": [
      "INFO:tensorflow:Restoring parameters from ./Scheepers_Ruan_files/auto.ckpt\n"
     ]
    }
   ],
   "source": [
    "train_reduced = reduce_features(X, hidden2, x_train, \"./Scheepers_Ruan_files/auto.ckpt\")"
   ]
  },
  {
   "cell_type": "code",
   "execution_count": 30,
   "metadata": {},
   "outputs": [
    {
     "name": "stdout",
     "output_type": "stream",
     "text": [
      "INFO:tensorflow:Using default config.\n",
      "INFO:tensorflow:Using config: {'_model_dir': './Scheepers_Ruan_files/mlp_auto_clf_model', '_tf_random_seed': None, '_save_summary_steps': 100, '_save_checkpoints_steps': None, '_save_checkpoints_secs': 600, '_session_config': allow_soft_placement: true\n",
      "graph_options {\n",
      "  rewrite_options {\n",
      "    meta_optimizer_iterations: ONE\n",
      "  }\n",
      "}\n",
      ", '_keep_checkpoint_max': 5, '_keep_checkpoint_every_n_hours': 10000, '_log_step_count_steps': 100, '_train_distribute': None, '_device_fn': None, '_protocol': None, '_eval_distribute': None, '_experimental_distribute': None, '_service': None, '_cluster_spec': <tensorflow.python.training.server_lib.ClusterSpec object at 0x0000020ABB11D0B8>, '_task_type': 'worker', '_task_id': 0, '_global_id_in_cluster': 0, '_master': '', '_evaluation_master': '', '_is_chief': True, '_num_ps_replicas': 0, '_num_worker_replicas': 1}\n"
     ]
    }
   ],
   "source": [
    "feature_column = [tf.feature_column.numeric_column(key='image',shape=(150,))]\n",
    "mlp_clf_auto = tf.estimator.DNNClassifier(\n",
    "    feature_columns = feature_column,\n",
    "    hidden_units=[1024, 512, 256],\n",
    "    optimizer=tf.train.AdamOptimizer(1e-4),\n",
    "    n_classes=10,\n",
    "    model_dir=\"./Scheepers_Ruan_files/mlp_auto_clf_model\"\n",
    ")\n"
   ]
  },
  {
   "cell_type": "code",
   "execution_count": 31,
   "metadata": {},
   "outputs": [],
   "source": [
    "input_fun_reduced=tf.estimator.inputs.numpy_input_fn(\n",
    "    dict({'image':train_reduced}),\n",
    "    train_labels.values,\n",
    "    shuffle=False)"
   ]
  },
  {
   "cell_type": "code",
   "execution_count": 34,
   "metadata": {},
   "outputs": [
    {
     "name": "stdout",
     "output_type": "stream",
     "text": [
      "INFO:tensorflow:Calling model_fn.\n",
      "INFO:tensorflow:Done calling model_fn.\n",
      "INFO:tensorflow:Create CheckpointSaverHook.\n",
      "INFO:tensorflow:Graph was finalized.\n",
      "INFO:tensorflow:Restoring parameters from ./Scheepers_Ruan_files/mlp_auto_clf_model\\model.ckpt-1876\n",
      "INFO:tensorflow:Running local_init_op.\n",
      "INFO:tensorflow:Done running local_init_op.\n",
      "INFO:tensorflow:Saving checkpoints for 1876 into ./Scheepers_Ruan_files/mlp_auto_clf_model\\model.ckpt.\n",
      "INFO:tensorflow:loss = 71.08154, step = 1877\n",
      "INFO:tensorflow:global_step/sec: 38.4314\n",
      "INFO:tensorflow:loss = 71.89924, step = 1977 (2.604 sec)\n",
      "INFO:tensorflow:global_step/sec: 45.868\n",
      "INFO:tensorflow:loss = 71.679085, step = 2077 (2.182 sec)\n",
      "INFO:tensorflow:global_step/sec: 45.9311\n",
      "INFO:tensorflow:loss = 46.985672, step = 2177 (2.175 sec)\n",
      "INFO:tensorflow:global_step/sec: 47.4751\n",
      "INFO:tensorflow:loss = 34.441227, step = 2277 (2.105 sec)\n",
      "INFO:tensorflow:Saving checkpoints for 2345 into ./Scheepers_Ruan_files/mlp_auto_clf_model\\model.ckpt.\n",
      "WARNING:tensorflow:From C:\\Users\\schee\\.conda\\envs\\mlenvTensor\\lib\\site-packages\\tensorflow\\python\\training\\saver.py:966: remove_checkpoint (from tensorflow.python.training.checkpoint_management) is deprecated and will be removed in a future version.\n",
      "Instructions for updating:\n",
      "Use standard file APIs to delete files with this prefix.\n",
      "INFO:tensorflow:Loss for final step: 45.064453.\n"
     ]
    },
    {
     "data": {
      "text/plain": [
       "<tensorflow_estimator.python.estimator.canned.dnn.DNNClassifier at 0x20abb111828>"
      ]
     },
     "execution_count": 34,
     "metadata": {},
     "output_type": "execute_result"
    }
   ],
   "source": [
    "mlp_clf_auto.train(input_fn=input_fun_reduced, steps=50000)"
   ]
  },
  {
   "cell_type": "code",
   "execution_count": 35,
   "metadata": {},
   "outputs": [
    {
     "name": "stdout",
     "output_type": "stream",
     "text": [
      "INFO:tensorflow:Restoring parameters from ./Scheepers_Ruan_files/auto.ckpt\n",
      "INFO:tensorflow:Calling model_fn.\n",
      "INFO:tensorflow:Done calling model_fn.\n",
      "INFO:tensorflow:Starting evaluation at 2019-05-26T05:26:03Z\n",
      "INFO:tensorflow:Graph was finalized.\n",
      "INFO:tensorflow:Restoring parameters from ./Scheepers_Ruan_files/mlp_auto_clf_model\\model.ckpt-2345\n",
      "INFO:tensorflow:Running local_init_op.\n",
      "INFO:tensorflow:Done running local_init_op.\n",
      "INFO:tensorflow:Finished evaluation at 2019-05-26-05:26:05\n",
      "INFO:tensorflow:Saving dict for global step 2345: accuracy = 0.8383, average_loss = 0.44769415, global_step = 2345, loss = 56.670143\n",
      "INFO:tensorflow:Saving 'checkpoint_path' summary for global step 2345: ./Scheepers_Ruan_files/mlp_auto_clf_model\\model.ckpt-2345\n",
      "\n",
      "Test Accuracy: 83.829999%\n",
      "\n"
     ]
    }
   ],
   "source": [
    "# Evaluate accuracy\n",
    "test_reduced = reduce_features(X, hidden2, x_test, \"./Scheepers_Ruan_files/auto.ckpt\")\n",
    "test_reduced_input_fn=tf.estimator.inputs.numpy_input_fn(\n",
    "    dict({'image':test_reduced}),\n",
    "    test_labels.values,\n",
    "    shuffle=False)\n",
    "\n",
    "eval_testData = mlp_clf_auto.evaluate(input_fn=test_reduced_input_fn)\n",
    "accuracy = eval_testData[\"accuracy\"]\n",
    "print(\"\\nTest Accuracy: {0:f}%\\n\".format(accuracy*100))\n",
    "\n"
   ]
  },
  {
   "cell_type": "code",
   "execution_count": 36,
   "metadata": {},
   "outputs": [
    {
     "name": "stdout",
     "output_type": "stream",
     "text": [
      "INFO:tensorflow:Calling model_fn.\n",
      "INFO:tensorflow:Done calling model_fn.\n",
      "INFO:tensorflow:Graph was finalized.\n",
      "INFO:tensorflow:Restoring parameters from ./Scheepers_Ruan_files/mlp_auto_clf_model\\model.ckpt-2345\n",
      "INFO:tensorflow:Running local_init_op.\n",
      "INFO:tensorflow:Done running local_init_op.\n",
      "f1 score macro : 0.8356738223360765\n",
      "['0', '1', '2', '3', '4', '5', '6', '7', '8', '9']\n"
     ]
    },
    {
     "data": {
      "image/png": "[encoded data removed]",
      "text/plain": [
       "<Figure size 576x576 with 2 Axes>"
      ]
     },
     "metadata": {
      "needs_background": "light"
     },
     "output_type": "display_data"
    }
   ],
   "source": [
    "predicted = mlp_clf_auto.predict(test_reduced_input_fn)\n",
    "predictions = [p['class_ids'][0] for p in predicted]\n",
    "\n",
    "matrix_test = confusion_matrix(list(test_labels), predictions)\n",
    "print(\"f1 score macro :\",f1_score(test_labels, predictions, average='macro'))\n",
    "plot_confusion_matrix(matrix_test, [\"0\",\"1\",\"2\",\"3\",\"4\",\"5\",\"6\",\"7\",\"8\",\"9\"])"
   ]
  },
  {
   "cell_type": "markdown",
   "metadata": {},
   "source": [
    "## Analysis\n",
    "\n",
    "The above MLP model (same hyper paramaters as section 1) with the autoencoder performed slightly worse, but was trained signficantly faster. This will allow for a far greater search in the hyperparamater space. \n",
    "\n",
    "Sometimes a reduction in features can improve the performace as it focuses on the more important features and reduces ovefitting. In particular the first autoencoder I ran on the MLP model with hidden layer of [250] the f1_score was improved from 76 to 79. "
   ]
  },
  {
   "cell_type": "markdown",
   "metadata": {},
   "source": [
    "## CNN\n",
    "\n",
    "The next section will train a convolutional neural network. \n",
    "\n",
    "I trained two different structures. \n",
    "\n",
    "First was motivated from the tutorial https://www.tensorflow.org/tutorials/estimators/cnn\n",
    "\n",
    "Which had:\n",
    "***\n",
    "| Layer         | Kernel Size | Avtivation |\n",
    "|---------------|-------------|------------|\n",
    "| Dense Layer   |      _      |    ReLU    |\n",
    "| Max Pooling 2 |     2x2     |            |\n",
    "| Convolution 2 |     5x5     |    ReLU    |\n",
    "| Max Pooling 1 |     2x2     |            |\n",
    "| Convolution 1 |     5x5     |    ReLU    |\n",
    "| Input         |             |            |\n",
    "\n",
    "***\n",
    "\n",
    "The second drew inspiration from the LeNet-5 architecture.\n",
    "\n",
    "| Layer         | Kernel Size | Avtivation |\n",
    "|---------------|-------------|------------|\n",
    "| Dense Layer   |      _      |    ReLU    |\n",
    "| Convolution 3 |     5x5     |    tanh    |\n",
    "| Avg Pooling 2 |     2x2     |            |\n",
    "| Convolution 2 |     5x5     |    tanh    |\n",
    "| Avg Pooling 1 |     2x2     |            |\n",
    "| Convolution 1 |     5x5     |    tanh    |\n",
    "| Input         |             |            |\n",
    "\n",
    "***\n",
    "\n",
    "Below is the result of the best perfoming Model.\n",
    "\n",
    "tf.layers was used to make the pooling and convolution layer. This will be depreciated in future updates and will me moved to tf.keras. I used the tf.layers since contrib and keras was not allowed for this project. (so the warnings can be ignored)\n",
    "\n",
    "***\n",
    "\n",
    "The first model out perfomed the second, but to deviate from the model I will add a third convolution layer to it.\n",
    "\n",
    "So The 2 pooling layers will use the Max Pooling. The three convultion layers will use Relu activation.\n",
    "\n",
    "The loss function used will be softmax cross entropy.\n"
   ]
  },
  {
   "cell_type": "code",
   "execution_count": 60,
   "metadata": {},
   "outputs": [],
   "source": [
    "import tensorflow as tf\n",
    "from sklearn.preprocessing import StandardScaler\n",
    "\n",
    "## Prepare the cnn_model_fn to be used with Estimator class.\n",
    "def cnn_model_fn(features, labels, mode):\n",
    "    \"\"\"Model function for CNN.\"\"\"\n",
    "    # Input Layer\n",
    "    input_layer = tf.reshape(features[\"x\"], [-1, 28, 28, 1])\n",
    "\n",
    "    # Convolutional Layer #1\n",
    "    #uses relu activation \n",
    "    \n",
    "    conv1 = tf.layers.conv2d(\n",
    "        inputs=input_layer,\n",
    "        filters=32,\n",
    "        kernel_size=[5, 5],\n",
    "        padding=\"same\",\n",
    "        activation=tf.nn.relu)\n",
    "\n",
    "    # Pooling Layer #1\n",
    "    # Max pooling \n",
    "    pool1 = tf.layers.max_pooling2d(inputs=conv1, pool_size=[2, 2], strides=2)\n",
    "\n",
    "    # Convolutional Layer #2 and Pooling Layer #2\n",
    "    conv2 = tf.layers.conv2d(\n",
    "        inputs=pool1,\n",
    "        filters=64,\n",
    "        kernel_size=[5, 5],\n",
    "        padding=\"same\",\n",
    "        activation=tf.nn.relu)\n",
    "    \n",
    "    pool2 = tf.layers.max_pooling2d(inputs=conv2, pool_size=[2, 2], strides=2)\n",
    "    \n",
    "    \n",
    "    #The third Convolution layer with relu activation and 128 filters.\n",
    "    conv3 = tf.layers.conv2d(\n",
    "        inputs=pool2,\n",
    "        filters=128, \n",
    "        kernel_size=[5, 5],\n",
    "        padding=\"same\",\n",
    "    activation=tf.nn.relu)\n",
    "    \n",
    "    # Dense Layer \n",
    "    conv3_flat = tf.reshape(conv3, [-1, 7 * 7 * 128])\n",
    "    dense = tf.layers.dense(inputs=conv3_flat, units=1024, activation=tf.nn.relu) \n",
    "    \n",
    "    #Include dropout regularisation.\n",
    "    \n",
    "    dropout = tf.layers.dropout(\n",
    "        inputs=dense, rate=0.4, training=mode == tf.estimator.ModeKeys.TRAIN)\n",
    "\n",
    "    # Logits Layer\n",
    "    logits = tf.layers.dense(inputs=dropout, units=10)\n",
    "\n",
    "    predictions = {\n",
    "        # Generate predictions (for PREDICT and EVAL mode)\n",
    "        \"classes\": tf.argmax(input=logits, axis=1),\n",
    "        # Add `softmax_tensor` to the graph. It is used for PREDICT and by the\n",
    "        # `logging_hook`.\n",
    "        \"probabilities\": tf.nn.softmax(logits, name=\"softmax_tensor\")\n",
    "    }\n",
    "    \n",
    "    if mode == tf.estimator.ModeKeys.PREDICT:\n",
    "        return tf.estimator.EstimatorSpec(mode=mode, predictions=predictions)\n",
    "    \n",
    "    # Calculate Loss (for both TRAIN and EVAL modes)\n",
    "    loss = tf.losses.sparse_softmax_cross_entropy(labels=labels, logits=logits)\n",
    "\n",
    "    # Configure the Training Op (for TRAIN mode)\n",
    "    if mode == tf.estimator.ModeKeys.TRAIN:\n",
    "        optimizer = tf.train.GradientDescentOptimizer(learning_rate=0.001)\n",
    "        train_op = optimizer.minimize(\n",
    "            loss=loss,\n",
    "            global_step=tf.train.get_global_step())\n",
    "        return tf.estimator.EstimatorSpec(mode=mode, loss=loss, train_op=train_op)\n",
    "\n",
    "    # Add evaluation metrics (for EVAL mode)\n",
    "    eval_metric_ops = {\n",
    "        \"accuracy\": tf.metrics.accuracy(\n",
    "          labels=labels, predictions=predictions[\"classes\"])\n",
    "    }\n",
    "    return tf.estimator.EstimatorSpec(mode=mode, loss=loss, eval_metric_ops=eval_metric_ops)"
   ]
  },
  {
   "cell_type": "code",
   "execution_count": 54,
   "metadata": {},
   "outputs": [],
   "source": [
    "x_train = train_features.values\n",
    "x_test = test_features.values\n",
    "scaler = StandardScaler()\n",
    "# Prepare input\n",
    "x_train = x_train.astype('float32')\n",
    "x_test = x_test.astype('float32')\n",
    "\n",
    "x_train = scaler.fit_transform(x_train)\n",
    "x_test = scaler.transform(x_test)"
   ]
  },
  {
   "cell_type": "code",
   "execution_count": 55,
   "metadata": {},
   "outputs": [],
   "source": [
    "tensors_to_log = {\"probabilities\": \"softmax_tensor\"}\n",
    "    \n",
    "logging_hook = tf.train.LoggingTensorHook(\n",
    "    tensors=tensors_to_log, every_n_iter=50)\n",
    "\n",
    "# The input function used to train the model\n",
    "train_input_fn = tf.estimator.inputs.numpy_input_fn(\n",
    "    x={\"x\": x_train},\n",
    "    y=train_labels,\n",
    "    batch_size=100,\n",
    "    num_epochs=None,\n",
    "    shuffle=True)\n"
   ]
  },
  {
   "cell_type": "code",
   "execution_count": 56,
   "metadata": {},
   "outputs": [
    {
     "name": "stdout",
     "output_type": "stream",
     "text": [
      "You can retrain the whole model or retrieve one that has already trained on 20000 steps, below it will train just 1 more to show the training is functional, it will load from a current checkpoint. Press 'n' to use old model\n",
      "Retraining the CNN model (y/n)? n\n",
      "INFO:tensorflow:Using default config.\n",
      "INFO:tensorflow:Using config: {'_model_dir': './Scheepers_Ruan_files/cnn_2', '_tf_random_seed': None, '_save_summary_steps': 100, '_save_checkpoints_steps': None, '_save_checkpoints_secs': 600, '_session_config': allow_soft_placement: true\n",
      "graph_options {\n",
      "  rewrite_options {\n",
      "    meta_optimizer_iterations: ONE\n",
      "  }\n",
      "}\n",
      ", '_keep_checkpoint_max': 5, '_keep_checkpoint_every_n_hours': 10000, '_log_step_count_steps': 100, '_train_distribute': None, '_device_fn': None, '_protocol': None, '_eval_distribute': None, '_experimental_distribute': None, '_service': None, '_cluster_spec': <tensorflow.python.training.server_lib.ClusterSpec object at 0x0000020ABBD2D470>, '_task_type': 'worker', '_task_id': 0, '_global_id_in_cluster': 0, '_master': '', '_evaluation_master': '', '_is_chief': True, '_num_ps_replicas': 0, '_num_worker_replicas': 1}\n"
     ]
    }
   ],
   "source": [
    "print(\"You can retrain the whole model or retrieve one that has already trained on 20000 steps, below it will train just 1 more to show the training is functional, it will load from a current checkpoint. Press 'n' to use old model\")\n",
    "answer = input(\"Retraining the CNN model (y/n)? \")\n",
    "if answer == \"y\":\n",
    "# train the CNN using the training set\n",
    "    cnn_classifier = tf.estimator.Estimator(\n",
    "        model_fn=cnn_model_fn, model_dir=\"./Scheepers_Ruan_files/cnn_model\")\n",
    "    \n",
    "    # train the model for 20000 steps, WARNING TAKES A LONG TIME\n",
    "    cnn_classifier.train(\n",
    "        input_fn=train_input_fn,\n",
    "        steps=20000,\n",
    "        hooks=[logging_hook])\n",
    "else:\n",
    "# restore the model\n",
    "    cnn_classifier = tf.estimator.Estimator(\n",
    "        model_fn=cnn_model_fn, model_dir=\"./Scheepers_Ruan_files/cnn_2\")"
   ]
  },
  {
   "cell_type": "code",
   "execution_count": 57,
   "metadata": {},
   "outputs": [
    {
     "name": "stdout",
     "output_type": "stream",
     "text": [
      "INFO:tensorflow:Calling model_fn.\n",
      "INFO:tensorflow:Done calling model_fn.\n",
      "INFO:tensorflow:Create CheckpointSaverHook.\n",
      "INFO:tensorflow:Graph was finalized.\n",
      "INFO:tensorflow:Restoring parameters from ./Scheepers_Ruan_files/cnn_2\\model.ckpt-26001\n",
      "INFO:tensorflow:Running local_init_op.\n",
      "INFO:tensorflow:Done running local_init_op.\n",
      "INFO:tensorflow:Saving checkpoints for 26001 into ./Scheepers_Ruan_files/cnn_2\\model.ckpt.\n",
      "INFO:tensorflow:probabilities = [[0.00044303 0.00000664 0.47256744 0.00002645 0.3846177  0.00000839\n",
      "  0.14211488 0.00000002 0.00020464 0.00001093]\n",
      " [0.03345996 0.20085727 0.01568679 0.5342114  0.05812814 0.03420071\n",
      "  0.00952578 0.0976305  0.00713502 0.00916445]\n",
      " [0.00000231 0.00000029 0.00000016 0.00000036 0.00000011 0.00027825\n",
      "  0.00000021 0.7588409  0.00002218 0.24085516]\n",
      " [0.00000121 0.99993396 0.00000001 0.00000441 0.0000589  0.00000001\n",
      "  0.00000103 0.00000022 0.00000018 0.00000001]\n",
      " [0.00047857 0.977028   0.00021655 0.01658572 0.00489291 0.00000406\n",
      "  0.00022178 0.00003858 0.00019559 0.00033835]\n",
      " [0.00000294 0.00000018 0.0000004  0.00000036 0.00000018 0.00178456\n",
      "  0.00000017 0.9974383  0.00001221 0.00076067]\n",
      " [0.9677512  0.00000677 0.00035789 0.00013288 0.00001389 0.00000008\n",
      "  0.03147238 0.0000004  0.00026041 0.00000411]\n",
      " [0.00177817 0.000022   0.00005335 0.00000546 0.00030965 0.00000105\n",
      "  0.00515492 0.00000797 0.9926196  0.00004787]\n",
      " [0.00003884 0.9998338  0.00000417 0.00001733 0.00009013 0.00000005\n",
      "  0.00000544 0.00000157 0.00000859 0.00000017]\n",
      " [0.00000203 0.0000007  0.0000003  0.00000001 0.00000002 0.0001017\n",
      "  0.00000006 0.00972365 0.00000105 0.9901704 ]\n",
      " [0.00017566 0.57313055 0.00119548 0.39126602 0.0313587  0.0000025\n",
      "  0.00177377 0.00010244 0.00063771 0.00035712]\n",
      " [0.00000326 0.00000008 0.00000028 0.00000001 0.00000016 0.0003126\n",
      "  0.00000032 0.00656966 0.00000351 0.99311006]\n",
      " [0.00011423 0.00000615 0.08259308 0.00088327 0.11320681 0.00000512\n",
      "  0.803152   0.00000073 0.000038   0.00000053]\n",
      " [0.02530419 0.00305884 0.01187574 0.5119469  0.33288014 0.00288927\n",
      "  0.10002571 0.00230888 0.00879973 0.00091051]\n",
      " [0.00000215 0.99997914 0.00000038 0.00000988 0.00000648 0.00000059\n",
      "  0.00000028 0.00000032 0.00000046 0.00000039]\n",
      " [0.00001982 0.00000116 0.00000035 0.00000032 0.00000032 0.00018341\n",
      "  0.00000018 0.9266052  0.0002605  0.07292875]\n",
      " [0.00005766 0.00000318 0.00003255 0.00004076 0.00000323 0.00791784\n",
      "  0.00002196 0.20493257 0.00047349 0.7865168 ]\n",
      " [0.9636581  0.00000702 0.00033092 0.00021447 0.00003514 0.00000001\n",
      "  0.03567404 0.00000001 0.00007844 0.00000187]\n",
      " [0.00000016 0.9999987  0.00000005 0.00000076 0.00000034 0.\n",
      "  0.00000001 0.00000008 0.00000003 0.00000004]\n",
      " [0.00001159 0.00000157 0.00002039 0.00003041 0.00000214 0.0024745\n",
      "  0.00000089 0.9969938  0.00015394 0.00031085]\n",
      " [0.00023355 0.00005144 0.00072041 0.00026054 0.00008015 0.9965538\n",
      "  0.0001519  0.00092721 0.00099729 0.00002363]\n",
      " [0.00276657 0.00001837 0.03913835 0.00051161 0.02200433 0.00006009\n",
      "  0.933769   0.00000044 0.00172972 0.00000161]\n",
      " [0.06268846 0.00524864 0.18520017 0.27165872 0.13899677 0.00008326\n",
      "  0.31690338 0.00013039 0.01865994 0.0004303 ]\n",
      " [0.0017048  0.00009403 0.00053712 0.00001473 0.00043485 0.00026086\n",
      "  0.0004723  0.00002996 0.99606603 0.00038536]\n",
      " [0.00222894 0.00105158 0.00394871 0.02405829 0.953153   0.00000146\n",
      "  0.01458359 0.00001502 0.00095543 0.00000394]\n",
      " [0.00007586 0.00024799 0.00044624 0.00020893 0.00031317 0.15857331\n",
      "  0.00025565 0.83202124 0.00340427 0.00445334]\n",
      " [0.04617014 0.07103926 0.00399176 0.8550362  0.01728679 0.00000757\n",
      "  0.00540632 0.00010158 0.00087256 0.00008773]\n",
      " [0.00000015 0.00000001 0.00000002 0.         0.00000001 0.00040729\n",
      "  0.00000001 0.00061221 0.00000244 0.9989779 ]\n",
      " [0.00155849 0.00026168 0.07004811 0.00307705 0.47164753 0.00000946\n",
      "  0.44978234 0.00003704 0.0033308  0.00024749]\n",
      " [0.00091958 0.00002164 0.04638352 0.01215234 0.58745337 0.00008023\n",
      "  0.35191765 0.00004466 0.00099284 0.00003415]\n",
      " [0.00001145 0.00002243 0.00000245 0.00000033 0.00001928 0.00272356\n",
      "  0.0000016  0.00440257 0.00147434 0.991342  ]\n",
      " [0.00011948 0.00288926 0.00017577 0.9944206  0.00114301 0.00000083\n",
      "  0.00118008 0.00000139 0.00005338 0.00001614]\n",
      " [0.00001071 0.00000401 0.00004937 0.00001342 0.00000164 0.00170518\n",
      "  0.00000206 0.9980118  0.00009681 0.0001049 ]\n",
      " [0.00001149 0.00000432 0.00001699 0.00000329 0.00004249 0.98351663\n",
      "  0.00002572 0.01485629 0.00011078 0.00141212]\n",
      " [0.20635049 0.0267689  0.0119219  0.45196745 0.01743322 0.07071454\n",
      "  0.18595873 0.00182642 0.02579526 0.00126318]\n",
      " [0.00039127 0.00005036 0.9718811  0.00000268 0.01180439 0.00000022\n",
      "  0.01585959 0.00000018 0.00000921 0.00000091]\n",
      " [0.00000509 0.00000091 0.00000258 0.00000531 0.00000277 0.02286793\n",
      "  0.0000003  0.9602851  0.00017113 0.01665887]\n",
      " [0.00037432 0.00000769 0.9936247  0.00006266 0.00137258 0.00000926\n",
      "  0.00454028 0.00000067 0.00000721 0.00000055]\n",
      " [0.00094036 0.00911039 0.00008922 0.98956126 0.0000675  0.00000301\n",
      "  0.0001043  0.00001275 0.00007349 0.00003785]\n",
      " [0.00000983 0.00000523 0.00000149 0.00000094 0.00000111 0.00166487\n",
      "  0.00000702 0.00015595 0.00000215 0.99815136]\n",
      " [0.01246118 0.00438095 0.02078245 0.72536063 0.22858804 0.00006949\n",
      "  0.00545687 0.00021808 0.00265397 0.00002837]\n",
      " [0.8562598  0.0000062  0.0010834  0.00416754 0.00033569 0.00000013\n",
      "  0.13776876 0.0000008  0.00037442 0.0000032 ]\n",
      " [0.00034773 0.00003787 0.10598778 0.00003891 0.85393167 0.0000001\n",
      "  0.03943467 0.0000002  0.00020482 0.00001629]\n",
      " [0.00001013 0.00001352 0.00000859 0.00008181 0.00000299 0.03316204\n",
      "  0.00000625 0.9664933  0.00006711 0.00015424]\n",
      " [0.9265206  0.00146311 0.00409489 0.02115377 0.00107185 0.00001298\n",
      "  0.04128911 0.00001603 0.00434734 0.00003027]\n",
      " [0.23994991 0.00041129 0.19357441 0.10548669 0.05547425 0.09452082\n",
      "  0.01554769 0.04855375 0.24207628 0.00440496]\n",
      " [0.96589816 0.00016907 0.00237759 0.00528405 0.00027165 0.00002426\n",
      "  0.02565181 0.00000274 0.00031702 0.00000367]\n",
      " [0.00001754 0.00000053 0.00007763 0.00001194 0.00015226 0.99842286\n",
      "  0.00014458 0.00081687 0.00034901 0.00000683]\n",
      " [0.00003653 0.00000001 0.00003784 0.00000268 0.00000431 0.9998092\n",
      "  0.00001246 0.00000109 0.00008889 0.00000686]\n",
      " [0.00238222 0.00065965 0.03330202 0.01202765 0.930555   0.00000312\n",
      "  0.01802773 0.00004964 0.00288192 0.00011102]\n",
      " [0.00001677 0.00003972 0.01081134 0.00002602 0.97369313 0.00000051\n",
      "  0.01539515 0.00000005 0.00001676 0.00000071]\n",
      " [0.97692126 0.00000468 0.00047886 0.00076754 0.00001672 0.00000072\n",
      "  0.02155136 0.00000049 0.00025303 0.00000524]\n",
      " [0.8312642  0.00000866 0.00074442 0.00358333 0.00143463 0.0000026\n",
      "  0.16254608 0.00000334 0.00041149 0.0000013 ]\n",
      " [0.00002492 0.00029122 0.0000142  0.00000474 0.00005292 0.02289916\n",
      "  0.0000147  0.0171392  0.00186409 0.9576948 ]\n",
      " [0.11715607 0.00135818 0.3001188  0.10973144 0.01128303 0.00007741\n",
      "  0.45572045 0.00025538 0.00385838 0.00044096]\n",
      " [0.00004092 0.00000448 0.03383052 0.00000527 0.93038696 0.00001732\n",
      "  0.03558457 0.00000073 0.0000909  0.00003819]\n",
      " [0.00000233 0.00000284 0.00000712 0.00000304 0.0000023  0.01335991\n",
      "  0.00000114 0.9818667  0.00005359 0.00470096]\n",
      " [0.00000385 0.000001   0.00000147 0.00000098 0.00000066 0.00063068\n",
      "  0.0000001  0.9992544  0.00003509 0.00007173]\n",
      " [0.00000154 0.00000065 0.00000009 0.00000063 0.00000028 0.00017503\n",
      "  0.00000008 0.01005261 0.00001843 0.9897507 ]\n",
      " [0.00232112 0.00130684 0.44495997 0.00126061 0.12613821 0.00140353\n",
      "  0.41703683 0.00032249 0.00492497 0.00032539]\n",
      " [0.75659484 0.00030184 0.00110494 0.04608586 0.00011984 0.00001182\n",
      "  0.19546819 0.00001671 0.00023661 0.0000593 ]\n",
      " [0.00719916 0.00068084 0.05525443 0.00385924 0.37209463 0.00005532\n",
      "  0.5570816  0.00002726 0.00370894 0.00003857]\n",
      " [0.00000556 0.99973077 0.00000342 0.00015328 0.00007176 0.00001631\n",
      "  0.00000205 0.00000496 0.00000567 0.00000605]\n",
      " [0.00000077 0.9999758  0.00000011 0.00000614 0.00001191 0.00000017\n",
      "  0.00000045 0.00000049 0.0000039  0.00000032]\n",
      " [0.00013736 0.00003427 0.00027305 0.00003474 0.00007784 0.9990194\n",
      "  0.00002496 0.00026993 0.00011809 0.00001024]\n",
      " [0.00916473 0.0008042  0.8530525  0.00796013 0.01494738 0.00002512\n",
      "  0.1114057  0.00003383 0.00254635 0.00005995]\n",
      " [0.00645967 0.00070549 0.00327061 0.00527182 0.9249825  0.00002242\n",
      "  0.05860125 0.00002536 0.00065155 0.0000094 ]\n",
      " [0.00044956 0.00078324 0.00273797 0.00135528 0.00192242 0.84007883\n",
      "  0.00447652 0.06107564 0.05466028 0.03246022]\n",
      " [0.00013355 0.0001377  0.06235671 0.00017932 0.92921066 0.00000413\n",
      "  0.00752854 0.0000107  0.0004024  0.00003629]\n",
      " [0.00164602 0.0000631  0.07741351 0.00052039 0.17042197 0.00534429\n",
      "  0.7420938  0.00004238 0.00241351 0.00004105]\n",
      " [0.00400949 0.00009493 0.30613488 0.00496301 0.00620606 0.00002295\n",
      "  0.67527276 0.00000542 0.00327326 0.00001732]\n",
      " [0.9947941  0.00000022 0.00016505 0.000442   0.00000066 0.00000013\n",
      "  0.00446284 0.00000075 0.0001336  0.00000064]\n",
      " [0.00000032 0.00000024 0.00000031 0.00000002 0.00000022 0.00004214\n",
      "  0.00000018 0.00016795 0.00001737 0.9997713 ]\n",
      " [0.00260698 0.00003726 0.95591223 0.00004987 0.00667729 0.00000453\n",
      "  0.03407706 0.00000212 0.00061924 0.00001336]\n",
      " [0.00135501 0.00295756 0.00396617 0.00154814 0.00077565 0.1373592\n",
      "  0.00094125 0.8060309  0.03466506 0.01040102]\n",
      " [0.00160199 0.00007832 0.90603936 0.00022967 0.03324921 0.00000116\n",
      "  0.05834346 0.00000225 0.00043812 0.00001653]\n",
      " [0.00079    0.00000084 0.0000606  0.00031285 0.00000952 0.991967\n",
      "  0.00008733 0.00559902 0.00111554 0.00005735]\n",
      " [0.01996895 0.00215043 0.00022078 0.9728651  0.000392   0.00000431\n",
      "  0.00388695 0.00005553 0.00022544 0.0002305 ]\n",
      " [0.00089595 0.00021277 0.00266991 0.9912731  0.00435322 0.00000008\n",
      "  0.00056872 0.00000113 0.00002348 0.00000153]\n",
      " [0.00000014 0.00000086 0.00000001 0.00000008 0.00000026 0.00539551\n",
      "  0.0000004  0.00004697 0.00000046 0.99455535]\n",
      " [0.0000002  0.00000007 0.00000002 0.00000023 0.00000003 0.00040269\n",
      "  0.00000001 0.01451649 0.00001526 0.98506504]\n",
      " [0.00000657 0.00000004 0.00000004 0.00000002 0.00000018 0.0009553\n",
      "  0.00000006 0.00540694 0.00008187 0.99354905]\n",
      " [0.22159266 0.00031839 0.01472978 0.00091917 0.00025594 0.00000117\n",
      "  0.7558907  0.00001216 0.00619367 0.00008634]\n",
      " [0.00957843 0.00082659 0.01052321 0.29244745 0.43674248 0.00009837\n",
      "  0.24743971 0.00014797 0.00218333 0.00001245]\n",
      " [0.96958613 0.00000018 0.00121661 0.00050124 0.00000277 0.00000004\n",
      "  0.02865642 0.00000006 0.00003602 0.00000048]\n",
      " [0.0000086  0.00003321 0.00000599 0.0000054  0.00006172 0.98425215\n",
      "  0.00000452 0.0098503  0.00165022 0.00412781]\n",
      " [0.7405221  0.00001495 0.00541806 0.00082649 0.00199027 0.0000006\n",
      "  0.25080904 0.00000137 0.00040245 0.00001477]\n",
      " [0.00116749 0.00020147 0.0036076  0.00567593 0.9859445  0.00000746\n",
      "  0.00307714 0.00001521 0.00029289 0.00001044]\n",
      " [0.9863556  0.00000176 0.00020465 0.00044527 0.00000136 0.00000001\n",
      "  0.01298631 0.00000001 0.00000437 0.00000056]\n",
      " [0.0000065  0.00000267 0.00001251 0.00000608 0.00000129 0.00238424\n",
      "  0.00000244 0.99660707 0.00010594 0.00087117]\n",
      " [0.00122782 0.00000333 0.00019111 0.00002866 0.00006922 0.9959027\n",
      "  0.00015966 0.00082669 0.00084964 0.00074115]\n",
      " [0.00035465 0.00026879 0.30753767 0.00018624 0.6899592  0.00000113\n",
      "  0.00106044 0.00000199 0.00062085 0.00000906]\n",
      " [0.00041575 0.00050207 0.02420639 0.00065048 0.08608911 0.00000183\n",
      "  0.8857074  0.00001995 0.00221238 0.00019458]\n",
      " [0.30904627 0.01443359 0.00739951 0.43454143 0.00243278 0.00393074\n",
      "  0.2219928  0.00094271 0.0031682  0.00211192]\n",
      " [0.00000003 0.         0.00000001 0.00000001 0.         0.0001085\n",
      "  0.         0.00004277 0.00000007 0.9998486 ]\n",
      " [0.61933494 0.00023031 0.00099911 0.23219223 0.00018332 0.00011758\n",
      "  0.14465286 0.00006402 0.00204832 0.00017717]\n",
      " [0.00028806 0.00024998 0.01212259 0.00046559 0.92293024 0.00009114\n",
      "  0.01530226 0.00001542 0.04838737 0.00014736]\n",
      " [0.00160085 0.00097262 0.16008368 0.00505458 0.2955457  0.00109227\n",
      "  0.5345732  0.00000609 0.00062476 0.00044612]\n",
      " [0.00163948 0.98854804 0.00005292 0.00567166 0.00319871 0.0000044\n",
      "  0.00055997 0.00015704 0.00010156 0.00006623]\n",
      " [0.00000067 0.99999213 0.00000012 0.000005   0.00000183 0.00000001\n",
      "  0.00000002 0.00000002 0.00000028 0.00000001]]\n"
     ]
    },
    {
     "name": "stdout",
     "output_type": "stream",
     "text": [
      "INFO:tensorflow:loss = 0.35825866, step = 26002\n",
      "INFO:tensorflow:Saving checkpoints for 26002 into ./Scheepers_Ruan_files/cnn_2\\model.ckpt.\n",
      "INFO:tensorflow:Loss for final step: 0.35825866.\n"
     ]
    },
    {
     "data": {
      "text/plain": [
       "<tensorflow_estimator.python.estimator.estimator.Estimator at 0x20abbd2d208>"
      ]
     },
     "execution_count": 57,
     "metadata": {},
     "output_type": "execute_result"
    }
   ],
   "source": [
    "## WILL train 1 more step starting from the previous checkpoint to show that training is functional\n",
    "\n",
    "cnn_classifier.train(\n",
    "    input_fn=train_input_fn,\n",
    "    steps=1,\n",
    "    hooks=[logging_hook])"
   ]
  },
  {
   "cell_type": "code",
   "execution_count": 58,
   "metadata": {},
   "outputs": [
    {
     "name": "stdout",
     "output_type": "stream",
     "text": [
      "INFO:tensorflow:Calling model_fn.\n",
      "INFO:tensorflow:Done calling model_fn.\n",
      "INFO:tensorflow:Graph was finalized.\n",
      "INFO:tensorflow:Restoring parameters from ./Scheepers_Ruan_files/cnn_2\\model.ckpt-26002\n",
      "INFO:tensorflow:Running local_init_op.\n",
      "INFO:tensorflow:Done running local_init_op.\n",
      "INFO:tensorflow:Calling model_fn.\n",
      "INFO:tensorflow:Done calling model_fn.\n",
      "INFO:tensorflow:Starting evaluation at 2019-05-26T05:47:23Z\n",
      "INFO:tensorflow:Graph was finalized.\n",
      "INFO:tensorflow:Restoring parameters from ./Scheepers_Ruan_files/cnn_2\\model.ckpt-26002\n",
      "INFO:tensorflow:Running local_init_op.\n",
      "INFO:tensorflow:Done running local_init_op.\n",
      "INFO:tensorflow:Finished evaluation at 2019-05-26-05:47:30\n",
      "INFO:tensorflow:Saving dict for global step 26002: accuracy = 0.8849, global_step = 26002, loss = 0.32112232\n",
      "INFO:tensorflow:Saving 'checkpoint_path' summary for global step 26002: ./Scheepers_Ruan_files/cnn_2\\model.ckpt-26002\n",
      "{'accuracy': 0.8849, 'loss': 0.32112232, 'global_step': 26002}\n"
     ]
    }
   ],
   "source": [
    "eval_input_fn = tf.estimator.inputs.numpy_input_fn(\n",
    "    x={\"x\": x_test},\n",
    "    y=test_labels,\n",
    "    num_epochs=1,\n",
    "    shuffle=False)\n",
    "\n",
    "predicted = cnn_classifier.predict(input_fn=eval_input_fn)\n",
    "predictions = [p[\"classes\"] for p in predicted]\n",
    "\n",
    "eval_results = cnn_classifier.evaluate(input_fn=eval_input_fn)\n",
    "print(eval_results)"
   ]
  },
  {
   "cell_type": "code",
   "execution_count": 59,
   "metadata": {},
   "outputs": [
    {
     "name": "stdout",
     "output_type": "stream",
     "text": [
      "f1 score macro : 0.8845764295059227\n",
      "['0', '1', '2', '3', '4', '5', '6', '7', '8', '9']\n"
     ]
    },
    {
     "data": {
      "image/png": "[encoded data removed]",
      "text/plain": [
       "<Figure size 576x576 with 2 Axes>"
      ]
     },
     "metadata": {
      "needs_background": "light"
     },
     "output_type": "display_data"
    }
   ],
   "source": [
    "matrix_test = confusion_matrix(list(test_labels), predictions)\n",
    "print(\"f1 score macro :\",f1_score(test_labels, predictions, average='macro'))\n",
    "plot_confusion_matrix(matrix_test, [\"0\",\"1\",\"2\",\"3\",\"4\",\"5\",\"6\",\"7\",\"8\",\"9\"])"
   ]
  },
  {
   "cell_type": "markdown",
   "metadata": {},
   "source": [
    "## Analysis\n",
    "\n",
    "The performance of the CNN matched that of the MLP classifier. With the MLP classifier, we had the luxury to search the hyperparameter space and was able to improve the performance from 74% to 88% (f1_score). For the CNN I compared 2 different architectures and ranged between 84% to 88%. There are many more architectures to consider, within each many hyperparameters to fine-tune. \n",
    "\n",
    "So the three models created above the CNN and MLP(without autoencoded) perfomed similarly around 88% f1 score and the MLP(with autoencoder) performed slightly worse around 83% f1 score.\n",
    "\n",
    "The following improvements can be made:\n",
    "\n",
    "All three networks had minimal hyperparameter tuning the MLP focused on 3 hyperparameters whereas the CNN only compared a few different architectures. The autoencoder significantly increased the speed of training of the MLP classifier, so within the same time we used to search the hyperparameter space for the first MLP, we can search a greater range of parameters. \n",
    "\n",
    "Deeper networks. Each network can be trained using more neurons per layer and more layers, example the AlexNet CNN architecture had two more convolution layers than the one above. There need regularisation (Dropout or l2 etc) to make sure the deeper networks do not over fit the data."
   ]
  },
  {
   "cell_type": "code",
   "execution_count": null,
   "metadata": {},
   "outputs": [],
   "source": []
  }
 ],
 "metadata": {
  "kernelspec": {
   "display_name": "Python 3",
   "language": "python",
   "name": "python3"
  },
  "language_info": {
   "codemirror_mode": {
    "name": "ipython",
    "version": 3
   },
   "file_extension": ".py",
   "mimetype": "text/x-python",
   "name": "python",
   "nbconvert_exporter": "python",
   "pygments_lexer": "ipython3",
   "version": "3.7.2"
  }
 },
 "nbformat": 4,
 "nbformat_minor": 2
}
