{
 "cells": [
  {
   "cell_type": "markdown",
   "metadata": {},
   "source": [
    "# <center>CITS5508 Lab sheet 3: Comparing DT and SVM models for classification and regression projects.</center>\n",
    "\n",
    "**Name: Ruan Scheepers**<br>\n",
    "**Student number: 21980258**<br>\n",
    "**Date created:** March 28th 2019<br>\n",
    "**Last modified:** April 5th 2019<br>\n",
    "\n",
    "\n"
   ]
  },
  {
   "cell_type": "markdown",
   "metadata": {},
   "source": [
    "# PROJECT 1: \n",
    "## Classification on Cellular Localization Sites of Proteins on E. Coli bacteria.\n"
   ]
  },
  {
   "cell_type": "markdown",
   "metadata": {},
   "source": [
    "### Read in the data\n",
    "\n",
    "Data was found at UCI (University of California at Irvine) Centre for Machine Learning and Intelligent\n",
    "Systems. See: <br>\n",
    "\n",
    "<br>\n",
    "\n",
    "<https://archive.ics.uci.edu/ml/datasets/ecoli>\n",
    "\n",
    "\n",
    "I NOTICED DOWNLOADING FROM THE WEB AND FROM LMS HAVE DIFFERENT PATHS (ONE IS .data FORMAT THE OTHER IS .txt) SO I HAVE BOTH BELOW, IF THE DATA DOES NOT LOAD PLEASE COMMENT/UNCOMMENT RESPECTIVE PATHS"
   ]
  },
  {
   "cell_type": "code",
   "execution_count": 1,
   "metadata": {},
   "outputs": [],
   "source": [
    "# Common imports\n",
    "import numpy as np\n",
    "import pandas as pd\n",
    "import os\n",
    "\n",
    "# to make this notebook's output stable across runs\n",
    "np.random.seed(42)\n",
    "\n",
    "# To plot the figures for visualisation\n",
    "%matplotlib inline\n",
    "import matplotlib as mpl\n",
    "import matplotlib.pyplot as plt\n",
    "mpl.rc('axes', labelsize=14)\n",
    "mpl.rc('xtick', labelsize=12)\n",
    "mpl.rc('ytick', labelsize=12)"
   ]
  },
  {
   "cell_type": "code",
   "execution_count": 2,
   "metadata": {},
   "outputs": [],
   "source": [
    "## functions to retrieve data set\n",
    "def load_data():\n",
    "    #when downloading from lms it was a different file type, if unable to load uncomment/comment respective paths\n",
    "    data_path = os.path.join(\"ecoli.data\")\n",
    "    #data_path = os.path.join(\"ecoli.data.txt\")\n",
    "    return pd.read_csv(data_path, delim_whitespace=True, header=None)"
   ]
  },
  {
   "cell_type": "code",
   "execution_count": 3,
   "metadata": {},
   "outputs": [],
   "source": [
    "full_data = load_data()"
   ]
  },
  {
   "cell_type": "code",
   "execution_count": 4,
   "metadata": {},
   "outputs": [
    {
     "data": {
      "text/html": [
       "<div>\n",
       "<style scoped>\n",
       "    .dataframe tbody tr th:only-of-type {\n",
       "        vertical-align: middle;\n",
       "    }\n",
       "\n",
       "    .dataframe tbody tr th {\n",
       "        vertical-align: top;\n",
       "    }\n",
       "\n",
       "    .dataframe thead th {\n",
       "        text-align: right;\n",
       "    }\n",
       "</style>\n",
       "<table border=\"1\" class=\"dataframe\">\n",
       "  <thead>\n",
       "    <tr style=\"text-align: right;\">\n",
       "      <th></th>\n",
       "      <th>0</th>\n",
       "      <th>1</th>\n",
       "      <th>2</th>\n",
       "      <th>3</th>\n",
       "      <th>4</th>\n",
       "      <th>5</th>\n",
       "      <th>6</th>\n",
       "      <th>7</th>\n",
       "      <th>8</th>\n",
       "    </tr>\n",
       "  </thead>\n",
       "  <tbody>\n",
       "    <tr>\n",
       "      <th>0</th>\n",
       "      <td>AAT_ECOLI</td>\n",
       "      <td>0.49</td>\n",
       "      <td>0.29</td>\n",
       "      <td>0.48</td>\n",
       "      <td>0.5</td>\n",
       "      <td>0.56</td>\n",
       "      <td>0.24</td>\n",
       "      <td>0.35</td>\n",
       "      <td>cp</td>\n",
       "    </tr>\n",
       "    <tr>\n",
       "      <th>1</th>\n",
       "      <td>ACEA_ECOLI</td>\n",
       "      <td>0.07</td>\n",
       "      <td>0.40</td>\n",
       "      <td>0.48</td>\n",
       "      <td>0.5</td>\n",
       "      <td>0.54</td>\n",
       "      <td>0.35</td>\n",
       "      <td>0.44</td>\n",
       "      <td>cp</td>\n",
       "    </tr>\n",
       "    <tr>\n",
       "      <th>2</th>\n",
       "      <td>ACEK_ECOLI</td>\n",
       "      <td>0.56</td>\n",
       "      <td>0.40</td>\n",
       "      <td>0.48</td>\n",
       "      <td>0.5</td>\n",
       "      <td>0.49</td>\n",
       "      <td>0.37</td>\n",
       "      <td>0.46</td>\n",
       "      <td>cp</td>\n",
       "    </tr>\n",
       "    <tr>\n",
       "      <th>3</th>\n",
       "      <td>ACKA_ECOLI</td>\n",
       "      <td>0.59</td>\n",
       "      <td>0.49</td>\n",
       "      <td>0.48</td>\n",
       "      <td>0.5</td>\n",
       "      <td>0.52</td>\n",
       "      <td>0.45</td>\n",
       "      <td>0.36</td>\n",
       "      <td>cp</td>\n",
       "    </tr>\n",
       "    <tr>\n",
       "      <th>4</th>\n",
       "      <td>ADI_ECOLI</td>\n",
       "      <td>0.23</td>\n",
       "      <td>0.32</td>\n",
       "      <td>0.48</td>\n",
       "      <td>0.5</td>\n",
       "      <td>0.55</td>\n",
       "      <td>0.25</td>\n",
       "      <td>0.35</td>\n",
       "      <td>cp</td>\n",
       "    </tr>\n",
       "  </tbody>\n",
       "</table>\n",
       "</div>"
      ],
      "text/plain": [
       "            0     1     2     3    4     5     6     7   8\n",
       "0   AAT_ECOLI  0.49  0.29  0.48  0.5  0.56  0.24  0.35  cp\n",
       "1  ACEA_ECOLI  0.07  0.40  0.48  0.5  0.54  0.35  0.44  cp\n",
       "2  ACEK_ECOLI  0.56  0.40  0.48  0.5  0.49  0.37  0.46  cp\n",
       "3  ACKA_ECOLI  0.59  0.49  0.48  0.5  0.52  0.45  0.36  cp\n",
       "4   ADI_ECOLI  0.23  0.32  0.48  0.5  0.55  0.25  0.35  cp"
      ]
     },
     "execution_count": 4,
     "metadata": {},
     "output_type": "execute_result"
    }
   ],
   "source": [
    "full_data.head()"
   ]
  },
  {
   "cell_type": "code",
   "execution_count": 5,
   "metadata": {},
   "outputs": [
    {
     "data": {
      "text/html": [
       "<div>\n",
       "<style scoped>\n",
       "    .dataframe tbody tr th:only-of-type {\n",
       "        vertical-align: middle;\n",
       "    }\n",
       "\n",
       "    .dataframe tbody tr th {\n",
       "        vertical-align: top;\n",
       "    }\n",
       "\n",
       "    .dataframe thead th {\n",
       "        text-align: right;\n",
       "    }\n",
       "</style>\n",
       "<table border=\"1\" class=\"dataframe\">\n",
       "  <thead>\n",
       "    <tr style=\"text-align: right;\">\n",
       "      <th></th>\n",
       "      <th>1</th>\n",
       "      <th>2</th>\n",
       "      <th>3</th>\n",
       "      <th>4</th>\n",
       "      <th>5</th>\n",
       "      <th>6</th>\n",
       "      <th>7</th>\n",
       "    </tr>\n",
       "  </thead>\n",
       "  <tbody>\n",
       "    <tr>\n",
       "      <th>count</th>\n",
       "      <td>336.000000</td>\n",
       "      <td>336.000000</td>\n",
       "      <td>336.000000</td>\n",
       "      <td>336.000000</td>\n",
       "      <td>336.000000</td>\n",
       "      <td>336.000000</td>\n",
       "      <td>336.000000</td>\n",
       "    </tr>\n",
       "    <tr>\n",
       "      <th>mean</th>\n",
       "      <td>0.500060</td>\n",
       "      <td>0.500000</td>\n",
       "      <td>0.495476</td>\n",
       "      <td>0.501488</td>\n",
       "      <td>0.500030</td>\n",
       "      <td>0.500179</td>\n",
       "      <td>0.499732</td>\n",
       "    </tr>\n",
       "    <tr>\n",
       "      <th>std</th>\n",
       "      <td>0.194634</td>\n",
       "      <td>0.148157</td>\n",
       "      <td>0.088495</td>\n",
       "      <td>0.027277</td>\n",
       "      <td>0.122376</td>\n",
       "      <td>0.215751</td>\n",
       "      <td>0.209411</td>\n",
       "    </tr>\n",
       "    <tr>\n",
       "      <th>min</th>\n",
       "      <td>0.000000</td>\n",
       "      <td>0.160000</td>\n",
       "      <td>0.480000</td>\n",
       "      <td>0.500000</td>\n",
       "      <td>0.000000</td>\n",
       "      <td>0.030000</td>\n",
       "      <td>0.000000</td>\n",
       "    </tr>\n",
       "    <tr>\n",
       "      <th>25%</th>\n",
       "      <td>0.340000</td>\n",
       "      <td>0.400000</td>\n",
       "      <td>0.480000</td>\n",
       "      <td>0.500000</td>\n",
       "      <td>0.420000</td>\n",
       "      <td>0.330000</td>\n",
       "      <td>0.350000</td>\n",
       "    </tr>\n",
       "    <tr>\n",
       "      <th>50%</th>\n",
       "      <td>0.500000</td>\n",
       "      <td>0.470000</td>\n",
       "      <td>0.480000</td>\n",
       "      <td>0.500000</td>\n",
       "      <td>0.495000</td>\n",
       "      <td>0.455000</td>\n",
       "      <td>0.430000</td>\n",
       "    </tr>\n",
       "    <tr>\n",
       "      <th>75%</th>\n",
       "      <td>0.662500</td>\n",
       "      <td>0.570000</td>\n",
       "      <td>0.480000</td>\n",
       "      <td>0.500000</td>\n",
       "      <td>0.570000</td>\n",
       "      <td>0.710000</td>\n",
       "      <td>0.710000</td>\n",
       "    </tr>\n",
       "    <tr>\n",
       "      <th>max</th>\n",
       "      <td>0.890000</td>\n",
       "      <td>1.000000</td>\n",
       "      <td>1.000000</td>\n",
       "      <td>1.000000</td>\n",
       "      <td>0.880000</td>\n",
       "      <td>1.000000</td>\n",
       "      <td>0.990000</td>\n",
       "    </tr>\n",
       "  </tbody>\n",
       "</table>\n",
       "</div>"
      ],
      "text/plain": [
       "                1           2           3           4           5           6  \\\n",
       "count  336.000000  336.000000  336.000000  336.000000  336.000000  336.000000   \n",
       "mean     0.500060    0.500000    0.495476    0.501488    0.500030    0.500179   \n",
       "std      0.194634    0.148157    0.088495    0.027277    0.122376    0.215751   \n",
       "min      0.000000    0.160000    0.480000    0.500000    0.000000    0.030000   \n",
       "25%      0.340000    0.400000    0.480000    0.500000    0.420000    0.330000   \n",
       "50%      0.500000    0.470000    0.480000    0.500000    0.495000    0.455000   \n",
       "75%      0.662500    0.570000    0.480000    0.500000    0.570000    0.710000   \n",
       "max      0.890000    1.000000    1.000000    1.000000    0.880000    1.000000   \n",
       "\n",
       "                7  \n",
       "count  336.000000  \n",
       "mean     0.499732  \n",
       "std      0.209411  \n",
       "min      0.000000  \n",
       "25%      0.350000  \n",
       "50%      0.430000  \n",
       "75%      0.710000  \n",
       "max      0.990000  "
      ]
     },
     "execution_count": 5,
     "metadata": {},
     "output_type": "execute_result"
    }
   ],
   "source": [
    "full_data.describe()"
   ]
  },
  {
   "cell_type": "code",
   "execution_count": 6,
   "metadata": {},
   "outputs": [
    {
     "name": "stdout",
     "output_type": "stream",
     "text": [
      "<class 'pandas.core.frame.DataFrame'>\n",
      "RangeIndex: 336 entries, 0 to 335\n",
      "Data columns (total 9 columns):\n",
      "0    336 non-null object\n",
      "1    336 non-null float64\n",
      "2    336 non-null float64\n",
      "3    336 non-null float64\n",
      "4    336 non-null float64\n",
      "5    336 non-null float64\n",
      "6    336 non-null float64\n",
      "7    336 non-null float64\n",
      "8    336 non-null object\n",
      "dtypes: float64(7), object(2)\n",
      "memory usage: 23.7+ KB\n"
     ]
    }
   ],
   "source": [
    "full_data.info()"
   ]
  },
  {
   "cell_type": "code",
   "execution_count": 7,
   "metadata": {},
   "outputs": [
    {
     "data": {
      "image/png": "[encoded data removed]",
      "text/plain": [
       "<Figure size 1440x1080 with 9 Axes>"
      ]
     },
     "metadata": {
      "needs_background": "light"
     },
     "output_type": "display_data"
    }
   ],
   "source": [
    "%matplotlib inline\n",
    "import matplotlib.pyplot as plt\n",
    "full_data.hist(bins=50, figsize=(20,15))\n",
    "plt.show()"
   ]
  },
  {
   "cell_type": "code",
   "execution_count": 8,
   "metadata": {},
   "outputs": [
    {
     "data": {
      "text/plain": [
       "0.48    326\n",
       "1.00     10\n",
       "Name: 3, dtype: int64"
      ]
     },
     "execution_count": 8,
     "metadata": {},
     "output_type": "execute_result"
    }
   ],
   "source": [
    "full_data[3].value_counts()"
   ]
  },
  {
   "cell_type": "code",
   "execution_count": 9,
   "metadata": {},
   "outputs": [
    {
     "data": {
      "text/plain": [
       "0.5    335\n",
       "1.0      1\n",
       "Name: 4, dtype: int64"
      ]
     },
     "execution_count": 9,
     "metadata": {},
     "output_type": "execute_result"
    }
   ],
   "source": [
    "full_data[4].value_counts()"
   ]
  },
  {
   "cell_type": "code",
   "execution_count": 10,
   "metadata": {},
   "outputs": [
    {
     "data": {
      "text/plain": [
       "cp     143\n",
       "im      77\n",
       "pp      52\n",
       "imU     35\n",
       "om      20\n",
       "omL      5\n",
       "imS      2\n",
       "imL      2\n",
       "Name: 8, dtype: int64"
      ]
     },
     "execution_count": 10,
     "metadata": {},
     "output_type": "execute_result"
    }
   ],
   "source": [
    "full_data[8].value_counts()"
   ]
  },
  {
   "cell_type": "markdown",
   "metadata": {},
   "source": [
    "## ANALYSIS\n",
    "\n",
    "Looking at the data we can see that feature 3,4 has almost entirely a single value so when optimising our classifiers we can definitely remove them and see if there is an improvement. The non-numerical feature has all unique names so will be removed since it won't provide any meaningful information. Finally there is small variation in standard devation, features 2,5 having a smaller std compared to 1,6,7 so scaling will be done for the SVM to see if it improves the performance. \n",
    "\n",
    "The 'oml, imL and imS types has very few data associated to it and won't be enough to classify, those data will also be cropped. It is also important to note how skewed the data is, some types having far more than others so when the data is split it will be done by 'StratifiedShuffleSplit' to maintain the same ratio between the testing/training sets.\n",
    "\n",
    "Below will be a scatter matrix of correlations to see if we can find any meaningful correlations. Note that features 0,3,4 were omitted for the reasons stated above. Observe feature 6 against 7 having all data to one side of a 'linear bound'"
   ]
  },
  {
   "cell_type": "code",
   "execution_count": 11,
   "metadata": {},
   "outputs": [
    {
     "data": {
      "image/png": "[encoded data removed]",
      "text/plain": [
       "<Figure size 864x576 with 25 Axes>"
      ]
     },
     "metadata": {
      "needs_background": "light"
     },
     "output_type": "display_data"
    }
   ],
   "source": [
    "from pandas.plotting import scatter_matrix\n",
    "attributes = [1, 2, 5, 6, 7]\n",
    "scatter_matrix(full_data[attributes], figsize=(12, 8))\n",
    "plt.show()"
   ]
  },
  {
   "cell_type": "markdown",
   "metadata": {},
   "source": [
    "## Cropping Data\n",
    "\n",
    "Below we crop the 'name' column and the unwanted categories. Note that the 3,4th features will be left in for now (unless the performance is very poor). Again this is a place for future fine-tuning."
   ]
  },
  {
   "cell_type": "code",
   "execution_count": 12,
   "metadata": {},
   "outputs": [],
   "source": [
    "cropped_data = full_data.copy()"
   ]
  },
  {
   "cell_type": "code",
   "execution_count": 13,
   "metadata": {},
   "outputs": [],
   "source": [
    "cropped_data = cropped_data[cropped_data[8] != \"imS\"]\n",
    "cropped_data = cropped_data[cropped_data[8] != \"omL\"]\n",
    "cropped_data = cropped_data[cropped_data[8] != \"imL\"]\n",
    "cropped_data = cropped_data.drop(0, axis=1)"
   ]
  },
  {
   "cell_type": "code",
   "execution_count": 14,
   "metadata": {},
   "outputs": [],
   "source": [
    "cropped_data.columns = range(len(cropped_data.columns)) #ressetting index after dropping the names column"
   ]
  },
  {
   "cell_type": "code",
   "execution_count": 15,
   "metadata": {},
   "outputs": [
    {
     "data": {
      "text/html": [
       "<div>\n",
       "<style scoped>\n",
       "    .dataframe tbody tr th:only-of-type {\n",
       "        vertical-align: middle;\n",
       "    }\n",
       "\n",
       "    .dataframe tbody tr th {\n",
       "        vertical-align: top;\n",
       "    }\n",
       "\n",
       "    .dataframe thead th {\n",
       "        text-align: right;\n",
       "    }\n",
       "</style>\n",
       "<table border=\"1\" class=\"dataframe\">\n",
       "  <thead>\n",
       "    <tr style=\"text-align: right;\">\n",
       "      <th></th>\n",
       "      <th>0</th>\n",
       "      <th>1</th>\n",
       "      <th>2</th>\n",
       "      <th>3</th>\n",
       "      <th>4</th>\n",
       "      <th>5</th>\n",
       "      <th>6</th>\n",
       "      <th>7</th>\n",
       "    </tr>\n",
       "  </thead>\n",
       "  <tbody>\n",
       "    <tr>\n",
       "      <th>0</th>\n",
       "      <td>0.49</td>\n",
       "      <td>0.29</td>\n",
       "      <td>0.48</td>\n",
       "      <td>0.5</td>\n",
       "      <td>0.56</td>\n",
       "      <td>0.24</td>\n",
       "      <td>0.35</td>\n",
       "      <td>cp</td>\n",
       "    </tr>\n",
       "    <tr>\n",
       "      <th>1</th>\n",
       "      <td>0.07</td>\n",
       "      <td>0.40</td>\n",
       "      <td>0.48</td>\n",
       "      <td>0.5</td>\n",
       "      <td>0.54</td>\n",
       "      <td>0.35</td>\n",
       "      <td>0.44</td>\n",
       "      <td>cp</td>\n",
       "    </tr>\n",
       "    <tr>\n",
       "      <th>2</th>\n",
       "      <td>0.56</td>\n",
       "      <td>0.40</td>\n",
       "      <td>0.48</td>\n",
       "      <td>0.5</td>\n",
       "      <td>0.49</td>\n",
       "      <td>0.37</td>\n",
       "      <td>0.46</td>\n",
       "      <td>cp</td>\n",
       "    </tr>\n",
       "    <tr>\n",
       "      <th>3</th>\n",
       "      <td>0.59</td>\n",
       "      <td>0.49</td>\n",
       "      <td>0.48</td>\n",
       "      <td>0.5</td>\n",
       "      <td>0.52</td>\n",
       "      <td>0.45</td>\n",
       "      <td>0.36</td>\n",
       "      <td>cp</td>\n",
       "    </tr>\n",
       "    <tr>\n",
       "      <th>4</th>\n",
       "      <td>0.23</td>\n",
       "      <td>0.32</td>\n",
       "      <td>0.48</td>\n",
       "      <td>0.5</td>\n",
       "      <td>0.55</td>\n",
       "      <td>0.25</td>\n",
       "      <td>0.35</td>\n",
       "      <td>cp</td>\n",
       "    </tr>\n",
       "  </tbody>\n",
       "</table>\n",
       "</div>"
      ],
      "text/plain": [
       "      0     1     2    3     4     5     6   7\n",
       "0  0.49  0.29  0.48  0.5  0.56  0.24  0.35  cp\n",
       "1  0.07  0.40  0.48  0.5  0.54  0.35  0.44  cp\n",
       "2  0.56  0.40  0.48  0.5  0.49  0.37  0.46  cp\n",
       "3  0.59  0.49  0.48  0.5  0.52  0.45  0.36  cp\n",
       "4  0.23  0.32  0.48  0.5  0.55  0.25  0.35  cp"
      ]
     },
     "execution_count": 15,
     "metadata": {},
     "output_type": "execute_result"
    }
   ],
   "source": [
    "cropped_data.head()"
   ]
  },
  {
   "cell_type": "code",
   "execution_count": 16,
   "metadata": {},
   "outputs": [],
   "source": [
    "cropped_data = cropped_data.reset_index(drop=True) #resets row index"
   ]
  },
  {
   "cell_type": "markdown",
   "metadata": {},
   "source": [
    "### Perform an 80/20 split of the data to form the training set and test set. (STRATIFIED)"
   ]
  },
  {
   "cell_type": "code",
   "execution_count": 17,
   "metadata": {},
   "outputs": [
    {
     "data": {
      "text/plain": [
       "cp     143\n",
       "im      77\n",
       "pp      52\n",
       "imU     35\n",
       "om      20\n",
       "Name: 7, dtype: int64"
      ]
     },
     "execution_count": 17,
     "metadata": {},
     "output_type": "execute_result"
    }
   ],
   "source": [
    "cropped_data[7].value_counts() #make sure the cropping was done successfully"
   ]
  },
  {
   "cell_type": "code",
   "execution_count": 18,
   "metadata": {},
   "outputs": [
    {
     "name": "stdout",
     "output_type": "stream",
     "text": [
      "<class 'pandas.core.frame.DataFrame'>\n",
      "RangeIndex: 327 entries, 0 to 326\n",
      "Data columns (total 8 columns):\n",
      "0    327 non-null float64\n",
      "1    327 non-null float64\n",
      "2    327 non-null float64\n",
      "3    327 non-null float64\n",
      "4    327 non-null float64\n",
      "5    327 non-null float64\n",
      "6    327 non-null float64\n",
      "7    327 non-null object\n",
      "dtypes: float64(7), object(1)\n",
      "memory usage: 20.5+ KB\n"
     ]
    }
   ],
   "source": [
    "cropped_data.info()"
   ]
  },
  {
   "cell_type": "code",
   "execution_count": 19,
   "metadata": {},
   "outputs": [],
   "source": [
    "from sklearn.model_selection import StratifiedShuffleSplit\n",
    "\n",
    "split = StratifiedShuffleSplit(n_splits=1, test_size=0.2, random_state=42)\n",
    "for train_index, test_index in split.split(cropped_data, cropped_data[7]):    \n",
    "    strat_train_set = cropped_data.loc[train_index]    \n",
    "    strat_test_set = cropped_data.loc[test_index] "
   ]
  },
  {
   "cell_type": "code",
   "execution_count": 20,
   "metadata": {},
   "outputs": [
    {
     "name": "stdout",
     "output_type": "stream",
     "text": [
      "Ratios of the test set\n",
      "cp     0.439394\n",
      "im     0.242424\n",
      "pp     0.151515\n",
      "imU    0.106061\n",
      "om     0.060606\n",
      "Name: 7, dtype: float64\n",
      "\n",
      "\n",
      "Ratios of the training set\n",
      "cp     0.436782\n",
      "im     0.233716\n",
      "pp     0.160920\n",
      "imU    0.107280\n",
      "om     0.061303\n",
      "Name: 7, dtype: float64\n",
      "\n",
      "\n",
      "Count per training set:\n",
      "cp     114\n",
      "im      61\n",
      "pp      42\n",
      "imU     28\n",
      "om      16\n",
      "Name: 7, dtype: int64\n",
      "\n",
      "\n",
      "Count per testing set:\n",
      "cp     29\n",
      "im     16\n",
      "pp     10\n",
      "imU     7\n",
      "om      4\n",
      "Name: 7, dtype: int64\n"
     ]
    }
   ],
   "source": [
    "print(\"Ratios of the test set\")\n",
    "print(strat_test_set[7].value_counts() / len(strat_test_set))\n",
    "print(\"\\n\")\n",
    "print(\"Ratios of the training set\")\n",
    "print(strat_train_set[7].value_counts() / len(strat_train_set))\n",
    "print(\"\\n\")\n",
    "print(\"Count per training set:\")\n",
    "print(strat_train_set[7].value_counts())\n",
    "print(\"\\n\")\n",
    "print(\"Count per testing set:\")\n",
    "print(strat_test_set[7].value_counts())"
   ]
  },
  {
   "cell_type": "markdown",
   "metadata": {},
   "source": [
    "Notice that the ratios are maintained."
   ]
  },
  {
   "cell_type": "markdown",
   "metadata": {},
   "source": [
    "## Performance Measure\n",
    "\n",
    "Now that we have a separated the data into a training and testing data we will train the classifiers using the training data and do an initial performance measure using cross validation against the training data. Here is where we can fine-tune the hyperparameters of the models both manually or using for example a grid search.\n",
    "\n",
    "Then the testing data will be used for a final performance evaluation on the models to compare which performed best.\n",
    "\n",
    "The performance will be measure in the following: \n",
    "\n",
    "Accuracy: How often the predicted label matches the true label, this does not measure false positives so having a trivial model that guesses the most common class will do well (especially in this case since the data is heavily skewed)\n",
    "\n",
    "F1_score: This is a better measure of accuracy as it incorporates false positives and false negatives. It's a 'weighted average' between precision and recall. Note it does reward models that have similar precision and recall (sometimes the context demands cases where we prefer precision or recall and willing to make a tradeoff).\n",
    "\n",
    "Confusion Matrices: Finally we will be analysing the confusion matrices, this shows the true labels and misslables of the model, it can highlight a particular class being prone to misslabeling ect. This can lead to some fine-tuning or reworking of the model to better understand those classes.\n",
    "\n"
   ]
  },
  {
   "cell_type": "markdown",
   "metadata": {},
   "source": [
    "# Training SVM Classifier DATA NOT NORMALISED \n",
    "\n",
    "#### Using GUASSIAN RBF KERNEL\n",
    "\n",
    "This first section will train a SVM classifier using the raw data (not normalised). It will be using the Gaussian RBF Kernel. "
   ]
  },
  {
   "cell_type": "code",
   "execution_count": 21,
   "metadata": {},
   "outputs": [],
   "source": [
    "train_labels = strat_train_set[7]\n",
    "test_labels = strat_test_set[7]"
   ]
  },
  {
   "cell_type": "code",
   "execution_count": 22,
   "metadata": {},
   "outputs": [],
   "source": [
    "train_features = strat_train_set.drop(7,axis=1)\n",
    "test_features = strat_test_set.drop(7,axis=1)"
   ]
  },
  {
   "cell_type": "code",
   "execution_count": 23,
   "metadata": {},
   "outputs": [],
   "source": [
    "#Required imports\n",
    "from sklearn.svm import SVC\n",
    "from sklearn.pipeline import Pipeline\n",
    "from sklearn.preprocessing import StandardScaler\n",
    "from sklearn.model_selection import cross_val_predict\n",
    "\n",
    "from sklearn.metrics import confusion_matrix\n",
    "from sklearn.metrics import f1_score\n",
    "from sklearn.model_selection import cross_val_score\n",
    "from sklearn.metrics import accuracy_score\n",
    "\n",
    "\n",
    "def plot_confusion_matrix(matrix):\n",
    "    \n",
    "    fig = plt.figure(figsize=(8,8))\n",
    "    ax = fig.add_subplot(111)\n",
    "    ax.set_xticklabels([\"\"] + [\"cp\" , \"im\", \"pp\", \"imU\", \"om\"])\n",
    "    ax.set_yticklabels([\"\"] + [\"cp\" , \"im\", \"pp\", \"imU\", \"om\"])\n",
    "    cax = ax.matshow(matrix, cmap=plt.cm.gray)\n",
    "    fig.colorbar(cax)\n",
    "    plt.xlabel('Predicted')\n",
    "    plt.ylabel('True')\n",
    "    plt.title('Confusion Matrix')"
   ]
  },
  {
   "cell_type": "code",
   "execution_count": 24,
   "metadata": {},
   "outputs": [
    {
     "data": {
      "text/plain": [
       "Pipeline(memory=None,\n",
       "     steps=[('svm_clf', SVC(C=1.0, cache_size=200, class_weight=None, coef0=0.0,\n",
       "  decision_function_shape='ovr', degree=3, gamma='auto', kernel='rbf',\n",
       "  max_iter=-1, probability=False, random_state=42, shrinking=True,\n",
       "  tol=0.001, verbose=False))])"
      ]
     },
     "execution_count": 24,
     "metadata": {},
     "output_type": "execute_result"
    }
   ],
   "source": [
    "svm_clf = Pipeline([\n",
    "        #scaling omitted to observe the effects of feature scaling.\n",
    "        (\"svm_clf\", SVC(kernel=\"rbf\", gamma = 'auto', random_state=42))\n",
    "    ])\n",
    "svm_clf.fit(train_features, train_labels)"
   ]
  },
  {
   "cell_type": "code",
   "execution_count": 25,
   "metadata": {},
   "outputs": [],
   "source": [
    "predicted_svm_train = cross_val_predict(svm_clf, train_features, train_labels, cv = 3)"
   ]
  },
  {
   "cell_type": "code",
   "execution_count": 26,
   "metadata": {},
   "outputs": [],
   "source": [
    "matrix_training_not_scaled = confusion_matrix(train_labels, predicted_svm_train)"
   ]
  },
  {
   "cell_type": "code",
   "execution_count": 27,
   "metadata": {},
   "outputs": [
    {
     "name": "stdout",
     "output_type": "stream",
     "text": [
      "Accuracy :\n",
      "[0.73033708 0.74418605 0.65116279]\n",
      "F1 Score 'macro' : 0.42675107608027274\n",
      "\n",
      "\n",
      "Since some classes had 0 correct classifications the macro averaging of the f1 scores will be heavily skewed by those classes, so the weighted f1_score is also given. Beware it can result in an F-score that is not between precision and recall.\n",
      "\n",
      "\n",
      "F1 Score 'weighted' : 0.6314618628412888\n"
     ]
    },
    {
     "name": "stderr",
     "output_type": "stream",
     "text": [
      "C:\\Users\\schee\\AppData\\Local\\conda\\conda\\envs\\mlenv\\lib\\site-packages\\sklearn\\metrics\\classification.py:1143: UndefinedMetricWarning: F-score is ill-defined and being set to 0.0 in labels with no predicted samples.\n",
      "  'precision', 'predicted', average, warn_for)\n"
     ]
    }
   ],
   "source": [
    "print(\"Accuracy :\")\n",
    "print(cross_val_score(svm_clf, train_features, train_labels, cv = 3, scoring = \"accuracy\"))\n",
    "print(\"F1 Score 'macro' :\", f1_score(train_labels, predicted_svm_train, average='macro'))\n",
    "print(\"\\n\")\n",
    "print(\"Since some classes had 0 correct classifications the macro averaging of the f1 scores will be heavily skewed by those classes, so the weighted f1_score is also given. Beware it can result in an F-score that is not between precision and recall.\")\n",
    "print(\"\\n\")\n",
    "print(\"F1 Score 'weighted' :\", f1_score(train_labels, predicted_svm_train, average='weighted'))"
   ]
  },
  {
   "cell_type": "code",
   "execution_count": 28,
   "metadata": {},
   "outputs": [
    {
     "name": "stdout",
     "output_type": "stream",
     "text": [
      "Confusion matrix followed by its respective diagram:\n",
      "[[113   0   0   0   1]\n",
      " [  7  54   0   0   0]\n",
      " [  1  27   0   0   0]\n",
      " [  9   1   0   0   6]\n",
      " [ 23   1   0   0  18]]\n"
     ]
    },
    {
     "data": {
      "image/png": "[encoded data removed]",
      "text/plain": [
       "<Figure size 576x576 with 2 Axes>"
      ]
     },
     "metadata": {
      "needs_background": "light"
     },
     "output_type": "display_data"
    }
   ],
   "source": [
    "print(\"Confusion matrix followed by its respective diagram:\")\n",
    "print(matrix_training_not_scaled)\n",
    "plot_confusion_matrix(matrix_training_not_scaled)"
   ]
  },
  {
   "cell_type": "markdown",
   "metadata": {},
   "source": [
    "# Training SVM Classifier DATA NORMALISED |"
   ]
  },
  {
   "cell_type": "code",
   "execution_count": 29,
   "metadata": {},
   "outputs": [],
   "source": [
    "pipeline = Pipeline([\n",
    "        ('std_scaler', StandardScaler()),\n",
    "    ])"
   ]
  },
  {
   "cell_type": "code",
   "execution_count": 30,
   "metadata": {},
   "outputs": [],
   "source": [
    "training_features_scaled = pipeline.fit_transform(train_features)\n",
    "\n",
    "testing_features_scaled = pipeline.transform(test_features) #NOTE ONLY TRANSFORM THE TESTING DATA "
   ]
  },
  {
   "cell_type": "code",
   "execution_count": 31,
   "metadata": {},
   "outputs": [],
   "source": [
    "svm_clf_scaled = SVC(kernel=\"rbf\", gamma = 'auto', random_state=42)"
   ]
  },
  {
   "cell_type": "code",
   "execution_count": 32,
   "metadata": {},
   "outputs": [
    {
     "data": {
      "text/plain": [
       "SVC(C=1.0, cache_size=200, class_weight=None, coef0=0.0,\n",
       "  decision_function_shape='ovr', degree=3, gamma='auto', kernel='rbf',\n",
       "  max_iter=-1, probability=False, random_state=42, shrinking=True,\n",
       "  tol=0.001, verbose=False)"
      ]
     },
     "execution_count": 32,
     "metadata": {},
     "output_type": "execute_result"
    }
   ],
   "source": [
    "svm_clf_scaled.fit(training_features_scaled, train_labels)"
   ]
  },
  {
   "cell_type": "code",
   "execution_count": 33,
   "metadata": {},
   "outputs": [],
   "source": [
    "predicted_svm_train_scaled = cross_val_predict(svm_clf_scaled, training_features_scaled, train_labels, cv = 3)"
   ]
  },
  {
   "cell_type": "code",
   "execution_count": 34,
   "metadata": {},
   "outputs": [],
   "source": [
    "matrix_training_scaled = confusion_matrix(train_labels, predicted_svm_train_scaled)"
   ]
  },
  {
   "cell_type": "code",
   "execution_count": 35,
   "metadata": {},
   "outputs": [
    {
     "name": "stdout",
     "output_type": "stream",
     "text": [
      "Accuracy :\n",
      "[0.83146067 0.88372093 0.86046512]\n",
      "F1 Score : 0.804192667919083\n"
     ]
    }
   ],
   "source": [
    "print(\"Accuracy :\")\n",
    "print(cross_val_score(svm_clf_scaled, training_features_scaled, train_labels, cv = 3, scoring = \"accuracy\"))\n",
    "print(\"F1 Score :\", f1_score(train_labels, predicted_svm_train_scaled, average='macro'))"
   ]
  },
  {
   "cell_type": "code",
   "execution_count": 36,
   "metadata": {},
   "outputs": [
    {
     "name": "stdout",
     "output_type": "stream",
     "text": [
      "Confusion matrix followed by its respective diagram:\n",
      "[[111   1   0   0   2]\n",
      " [  2  50   9   0   0]\n",
      " [  0  11  16   1   0]\n",
      " [  0   1   0  13   2]\n",
      " [  4   2   0   2  34]]\n"
     ]
    },
    {
     "data": {
      "image/png": "[encoded data removed]",
      "text/plain": [
       "<Figure size 576x576 with 2 Axes>"
      ]
     },
     "metadata": {
      "needs_background": "light"
     },
     "output_type": "display_data"
    }
   ],
   "source": [
    "print(\"Confusion matrix followed by its respective diagram:\")\n",
    "print(matrix_training_scaled)\n",
    "plot_confusion_matrix(matrix_training_scaled)"
   ]
  },
  {
   "cell_type": "markdown",
   "metadata": {},
   "source": [
    "# Comparing feature scaling\n",
    "\n",
    "This section will run both the classifiers (scaled and non scaled) against the test data to compare performance.\n"
   ]
  },
  {
   "cell_type": "markdown",
   "metadata": {},
   "source": [
    "## Unscaled:"
   ]
  },
  {
   "cell_type": "code",
   "execution_count": 37,
   "metadata": {},
   "outputs": [],
   "source": [
    "#predicting using non-scaled classifier\n",
    "predictedSVM = svm_clf.predict(test_features)"
   ]
  },
  {
   "cell_type": "code",
   "execution_count": 38,
   "metadata": {},
   "outputs": [],
   "source": [
    "matrix_not_scaled = confusion_matrix(test_labels, predictedSVM)"
   ]
  },
  {
   "cell_type": "code",
   "execution_count": 39,
   "metadata": {},
   "outputs": [
    {
     "name": "stdout",
     "output_type": "stream",
     "text": [
      "Accuracy : 0.803030303030303\n",
      "f1 score 'macro': 0.5077498093058733\n",
      "\n",
      "\n",
      "Since some classes had 0 correct classifications the macro averaging of the f1 scores will be heavily skewed by those classes, so the weighted f1_score is also given. Beware it can result in an F-score that is not between precision and recall.\n",
      "\n",
      "\n",
      "f1 score 'weighted': 0.7347121096549014\n"
     ]
    },
    {
     "name": "stderr",
     "output_type": "stream",
     "text": [
      "C:\\Users\\schee\\AppData\\Local\\conda\\conda\\envs\\mlenv\\lib\\site-packages\\sklearn\\metrics\\classification.py:1143: UndefinedMetricWarning: F-score is ill-defined and being set to 0.0 in labels with no predicted samples.\n",
      "  'precision', 'predicted', average, warn_for)\n"
     ]
    }
   ],
   "source": [
    "print(\"Accuracy :\", accuracy_score(test_labels, predictedSVM))\n",
    "print(\"f1 score 'macro':\",f1_score(test_labels, predictedSVM, average='macro'))\n",
    "print(\"\\n\")\n",
    "print(\"Since some classes had 0 correct classifications the macro averaging of the f1 scores will be heavily skewed by those classes, so the weighted f1_score is also given. Beware it can result in an F-score that is not between precision and recall.\")\n",
    "print(\"\\n\")\n",
    "print(\"f1 score 'weighted':\",f1_score(test_labels, predictedSVM, average='weighted'))\n",
    " "
   ]
  },
  {
   "cell_type": "code",
   "execution_count": 40,
   "metadata": {},
   "outputs": [
    {
     "name": "stdout",
     "output_type": "stream",
     "text": [
      "[[29  0  0  0  0]\n",
      " [ 1 15  0  0  0]\n",
      " [ 0  7  0  0  0]\n",
      " [ 0  0  0  0  4]\n",
      " [ 1  0  0  0  9]]\n",
      "None\n"
     ]
    },
    {
     "data": {
      "image/png": "[encoded data removed]",
      "text/plain": [
       "<Figure size 576x576 with 2 Axes>"
      ]
     },
     "metadata": {
      "needs_background": "light"
     },
     "output_type": "display_data"
    }
   ],
   "source": [
    "print(matrix_not_scaled)\n",
    "print(plot_confusion_matrix(matrix_not_scaled))"
   ]
  },
  {
   "cell_type": "markdown",
   "metadata": {},
   "source": [
    "## Scaled"
   ]
  },
  {
   "cell_type": "code",
   "execution_count": 41,
   "metadata": {},
   "outputs": [],
   "source": [
    "predictedSVM_scaled = svm_clf_scaled.predict(testing_features_scaled)"
   ]
  },
  {
   "cell_type": "code",
   "execution_count": 42,
   "metadata": {},
   "outputs": [],
   "source": [
    "matrix_scaled = confusion_matrix(test_labels, predictedSVM_scaled)"
   ]
  },
  {
   "cell_type": "code",
   "execution_count": 43,
   "metadata": {},
   "outputs": [
    {
     "name": "stdout",
     "output_type": "stream",
     "text": [
      "Accuracy : 0.9242424242424242\n",
      "f1 score macro : 0.9103313840155944\n",
      "f1 score weighted : 0.9271959359678658\n"
     ]
    }
   ],
   "source": [
    "print(\"Accuracy :\", accuracy_score(test_labels, predictedSVM_scaled))\n",
    "print(\"f1 score macro :\",f1_score(test_labels, predictedSVM_scaled, average='macro'))\n",
    "print(\"f1 score weighted :\",f1_score(test_labels, predictedSVM_scaled, average='weighted'))"
   ]
  },
  {
   "cell_type": "code",
   "execution_count": 44,
   "metadata": {},
   "outputs": [
    {
     "name": "stdout",
     "output_type": "stream",
     "text": [
      "[[29  0  0  0  0]\n",
      " [ 0 11  5  0  0]\n",
      " [ 0  0  7  0  0]\n",
      " [ 0  0  0  4  0]\n",
      " [ 0  0  0  0 10]]\n",
      "None\n"
     ]
    },
    {
     "data": {
      "image/png": "[encoded data removed]",
      "text/plain": [
       "<Figure size 576x576 with 2 Axes>"
      ]
     },
     "metadata": {
      "needs_background": "light"
     },
     "output_type": "display_data"
    }
   ],
   "source": [
    "print(matrix_scaled)\n",
    "print(plot_confusion_matrix(matrix_scaled))"
   ]
  },
  {
   "cell_type": "markdown",
   "metadata": {},
   "source": [
    "# Result Analysis\n",
    "\n",
    "First observe that the scaled classifier outperforms the non scaled in when perfromance was measured on the training set. This is reinforced by the results above. Running the performance measures on the testing se the scaled classifier outperforms the non-scaled in all performance measures. "
   ]
  },
  {
   "cell_type": "markdown",
   "metadata": {},
   "source": [
    "## DT Classifier"
   ]
  },
  {
   "cell_type": "code",
   "execution_count": 45,
   "metadata": {},
   "outputs": [],
   "source": [
    "from sklearn.tree import DecisionTreeClassifier"
   ]
  },
  {
   "cell_type": "code",
   "execution_count": 46,
   "metadata": {
    "scrolled": true
   },
   "outputs": [
    {
     "data": {
      "text/plain": [
       "DecisionTreeClassifier(class_weight=None, criterion='gini', max_depth=None,\n",
       "            max_features=None, max_leaf_nodes=None,\n",
       "            min_impurity_decrease=0.0, min_impurity_split=None,\n",
       "            min_samples_leaf=1, min_samples_split=2,\n",
       "            min_weight_fraction_leaf=0.0, presort=False, random_state=42,\n",
       "            splitter='best')"
      ]
     },
     "execution_count": 46,
     "metadata": {},
     "output_type": "execute_result"
    }
   ],
   "source": [
    "tree_clf = DecisionTreeClassifier(random_state=42)\n",
    "tree_clf.fit(train_features, train_labels)"
   ]
  },
  {
   "cell_type": "code",
   "execution_count": 47,
   "metadata": {},
   "outputs": [],
   "source": [
    "#make predictions using cross validation to get a sense of the performance on the training data\n",
    "predicted_tree_train = cross_val_predict(tree_clf, train_features, train_labels, cv = 3)"
   ]
  },
  {
   "cell_type": "code",
   "execution_count": 48,
   "metadata": {},
   "outputs": [],
   "source": [
    "matrix_tree_training = confusion_matrix(train_labels, predicted_tree_train)"
   ]
  },
  {
   "cell_type": "code",
   "execution_count": 49,
   "metadata": {},
   "outputs": [
    {
     "name": "stdout",
     "output_type": "stream",
     "text": [
      "Accuracy :\n",
      "[0.80898876 0.80232558 0.80232558]\n",
      "F1 Score 'macro' : 0.7218153415212238\n"
     ]
    }
   ],
   "source": [
    "print(\"Accuracy :\")\n",
    "print(cross_val_score(tree_clf, train_features, train_labels, cv = 3, scoring = \"accuracy\"))\n",
    "print(\"F1 Score 'macro' :\", f1_score(train_labels, predicted_tree_train, average='macro'))"
   ]
  },
  {
   "cell_type": "code",
   "execution_count": 50,
   "metadata": {},
   "outputs": [
    {
     "name": "stdout",
     "output_type": "stream",
     "text": [
      "[[104   4   0   2   4]\n",
      " [  2  50   8   1   0]\n",
      " [  1  13  13   0   1]\n",
      " [  0   0   1  10   5]\n",
      " [  3   2   1   3  33]]\n",
      "None\n"
     ]
    },
    {
     "data": {
      "image/png": "[encoded data removed]",
      "text/plain": [
       "<Figure size 576x576 with 2 Axes>"
      ]
     },
     "metadata": {
      "needs_background": "light"
     },
     "output_type": "display_data"
    }
   ],
   "source": [
    "print(matrix_tree_training)\n",
    "print(plot_confusion_matrix(matrix_tree_training))"
   ]
  },
  {
   "cell_type": "markdown",
   "metadata": {},
   "source": [
    "## Comparing Decision Tree and SVM\n",
    "\n",
    "Here we will compare the performance of the decicion tree against the SVM classifier. We will measure the performance on the testing set. (The results for the svm is the same just shown again for convienve in comparison).\n",
    "\n"
   ]
  },
  {
   "cell_type": "code",
   "execution_count": 51,
   "metadata": {},
   "outputs": [],
   "source": [
    "predicted_tree_clf = tree_clf.predict(test_features)\n",
    "predictedSVM_scaled = svm_clf_scaled.predict(testing_features_scaled)"
   ]
  },
  {
   "cell_type": "code",
   "execution_count": 52,
   "metadata": {},
   "outputs": [
    {
     "name": "stdout",
     "output_type": "stream",
     "text": [
      "Accuracy For Decision Tree: 0.7575757575757576\n",
      "Accuracy For SVM: 0.9242424242424242\n",
      "f1 score For Decision Tree : 0.7575757575757576\n",
      "f1 score For SVM : 0.9242424242424242\n",
      "\n",
      "\n",
      "\n",
      "The confusion matrix for the Decision Tree Classifier:\n",
      "[[27  0  0  2  0]\n",
      " [ 0  9  6  0  1]\n",
      " [ 0  1  6  0  0]\n",
      " [ 0  0  1  3  0]\n",
      " [ 2  2  1  0  5]]\n",
      "\n",
      "\n",
      "\n",
      "\n",
      "\n",
      "\n",
      "The confusion matrix for the SVM Classifier:\n",
      "[[29  0  0  0  0]\n",
      " [ 0 11  5  0  0]\n",
      " [ 0  0  7  0  0]\n",
      " [ 0  0  0  4  0]\n",
      " [ 0  0  0  0 10]]\n",
      "\n",
      "\n",
      "\n"
     ]
    },
    {
     "data": {
      "text/plain": [
       "<function matplotlib.pyplot.show(*args, **kw)>"
      ]
     },
     "execution_count": 52,
     "metadata": {},
     "output_type": "execute_result"
    },
    {
     "data": {
      "image/png": "[encoded data removed]",
      "text/plain": [
       "<Figure size 576x576 with 2 Axes>"
      ]
     },
     "metadata": {
      "needs_background": "light"
     },
     "output_type": "display_data"
    },
    {
     "data": {
      "image/png": "[encoded data removed]",
      "text/plain": [
       "<Figure size 576x576 with 2 Axes>"
      ]
     },
     "metadata": {
      "needs_background": "light"
     },
     "output_type": "display_data"
    }
   ],
   "source": [
    "tree_matrix = confusion_matrix(test_labels, predicted_tree_clf)\n",
    "svm_matrix = confusion_matrix(test_labels, predictedSVM_scaled)\n",
    "\n",
    "print(\"Accuracy For Decision Tree:\", accuracy_score(test_labels, predicted_tree_clf))\n",
    "print(\"Accuracy For SVM:\", accuracy_score(test_labels, predictedSVM_scaled))\n",
    "\n",
    "print(\"f1 score For Decision Tree :\",f1_score(test_labels, predicted_tree_clf, average='micro'))\n",
    "print(\"f1 score For SVM :\",f1_score(test_labels, predictedSVM_scaled, average='micro'))\n",
    "print(\"\\n\\n\")\n",
    "print(\"The confusion matrix for the Decision Tree Classifier:\")\n",
    "print(tree_matrix)\n",
    "print(\"\\n\\n\")\n",
    "plot_confusion_matrix(tree_matrix)\n",
    "plt.title(\"Decision Tree\")\n",
    "plt.show\n",
    "print(\"\\n\\n\")\n",
    "print(\"The confusion matrix for the SVM Classifier:\")\n",
    "print(svm_matrix)\n",
    "print(\"\\n\\n\")\n",
    "plot_confusion_matrix(svm_matrix)\n",
    "plt.title(\"SVM\")\n",
    "plt.show"
   ]
  },
  {
   "cell_type": "markdown",
   "metadata": {},
   "source": [
    "# Result Analysis\n",
    "\n",
    "As seen above the SVM out performed the decision tree significantly:\n",
    "\n",
    "A few things to note:\n",
    "\n",
    "The testing set is small and some classes have a very low count, so a correct 'lucky' guess would impact the performance measure significantly. Future analysis can be done by running over different random states to observe the variance in performance or more data can be collected (this will also improve the training quality).\n",
    "\n",
    "The current results above show no fine tuning, including hyper-parameters or the removal of features 3,4 as mentioned in the initial data analysis above. We can see that the DT particularly struggled with the 'om' category and has potential for fine tuning. \n",
    "\n",
    "With these things in mind, the SVM performed better than the Decision Tree\n"
   ]
  },
  {
   "cell_type": "markdown",
   "metadata": {},
   "source": [
    "# PROJECT 2:\n",
    "\n",
    "## Predicting the maximum temperature in Perth from Solar Exposure. "
   ]
  },
  {
   "cell_type": "code",
   "execution_count": 53,
   "metadata": {},
   "outputs": [],
   "source": [
    "# This cell can be skipped if project 1 has already been executed\n",
    "# Common imports\n",
    "import numpy as np\n",
    "import pandas as pd\n",
    "import os\n",
    "\n",
    "# to make this notebook's output stable across runs\n",
    "np.random.seed(42)\n",
    "\n",
    "# To plot the figures for visualisation\n",
    "%matplotlib inline\n",
    "import matplotlib as mpl\n",
    "import matplotlib.pyplot as plt\n",
    "mpl.rc('axes', labelsize=14)\n",
    "mpl.rc('xtick', labelsize=12)\n",
    "mpl.rc('ytick', labelsize=12)"
   ]
  },
  {
   "cell_type": "code",
   "execution_count": 54,
   "metadata": {},
   "outputs": [],
   "source": [
    "## functions to retrieve data set\n",
    "def load_solarExposure():\n",
    "    csv_path = os.path.join(\"SolarExposure_2018_Data.csv\")\n",
    "    return pd.read_csv(csv_path)\n",
    "\n",
    "def load_temperature():\n",
    "    csv_path = os.path.join(\"Temperature_2018_Data.csv\")\n",
    "    return pd.read_csv(csv_path)"
   ]
  },
  {
   "cell_type": "code",
   "execution_count": 55,
   "metadata": {},
   "outputs": [
    {
     "data": {
      "text/html": [
       "<div>\n",
       "<style scoped>\n",
       "    .dataframe tbody tr th:only-of-type {\n",
       "        vertical-align: middle;\n",
       "    }\n",
       "\n",
       "    .dataframe tbody tr th {\n",
       "        vertical-align: top;\n",
       "    }\n",
       "\n",
       "    .dataframe thead th {\n",
       "        text-align: right;\n",
       "    }\n",
       "</style>\n",
       "<table border=\"1\" class=\"dataframe\">\n",
       "  <thead>\n",
       "    <tr style=\"text-align: right;\">\n",
       "      <th></th>\n",
       "      <th>Product code</th>\n",
       "      <th>Bureau of Meteorology station number</th>\n",
       "      <th>Year</th>\n",
       "      <th>Month</th>\n",
       "      <th>Day</th>\n",
       "      <th>Daily global solar exposure (MJ/m*m)</th>\n",
       "    </tr>\n",
       "  </thead>\n",
       "  <tbody>\n",
       "    <tr>\n",
       "      <th>0</th>\n",
       "      <td>IDCJAC0016</td>\n",
       "      <td>9225</td>\n",
       "      <td>2018</td>\n",
       "      <td>1</td>\n",
       "      <td>1</td>\n",
       "      <td>31.8</td>\n",
       "    </tr>\n",
       "    <tr>\n",
       "      <th>1</th>\n",
       "      <td>IDCJAC0016</td>\n",
       "      <td>9225</td>\n",
       "      <td>2018</td>\n",
       "      <td>1</td>\n",
       "      <td>2</td>\n",
       "      <td>31.8</td>\n",
       "    </tr>\n",
       "    <tr>\n",
       "      <th>2</th>\n",
       "      <td>IDCJAC0016</td>\n",
       "      <td>9225</td>\n",
       "      <td>2018</td>\n",
       "      <td>1</td>\n",
       "      <td>3</td>\n",
       "      <td>31.7</td>\n",
       "    </tr>\n",
       "    <tr>\n",
       "      <th>3</th>\n",
       "      <td>IDCJAC0016</td>\n",
       "      <td>9225</td>\n",
       "      <td>2018</td>\n",
       "      <td>1</td>\n",
       "      <td>4</td>\n",
       "      <td>31.6</td>\n",
       "    </tr>\n",
       "    <tr>\n",
       "      <th>4</th>\n",
       "      <td>IDCJAC0016</td>\n",
       "      <td>9225</td>\n",
       "      <td>2018</td>\n",
       "      <td>1</td>\n",
       "      <td>5</td>\n",
       "      <td>24.8</td>\n",
       "    </tr>\n",
       "  </tbody>\n",
       "</table>\n",
       "</div>"
      ],
      "text/plain": [
       "  Product code  Bureau of Meteorology station number  Year  Month  Day  \\\n",
       "0   IDCJAC0016                                  9225  2018      1    1   \n",
       "1   IDCJAC0016                                  9225  2018      1    2   \n",
       "2   IDCJAC0016                                  9225  2018      1    3   \n",
       "3   IDCJAC0016                                  9225  2018      1    4   \n",
       "4   IDCJAC0016                                  9225  2018      1    5   \n",
       "\n",
       "   Daily global solar exposure (MJ/m*m)  \n",
       "0                                  31.8  \n",
       "1                                  31.8  \n",
       "2                                  31.7  \n",
       "3                                  31.6  \n",
       "4                                  24.8  "
      ]
     },
     "execution_count": 55,
     "metadata": {},
     "output_type": "execute_result"
    }
   ],
   "source": [
    "solar_data = load_solarExposure() ##load the solar data\n",
    "solar_data.head() ##confirm the load was successful and view the columns"
   ]
  },
  {
   "cell_type": "code",
   "execution_count": 56,
   "metadata": {},
   "outputs": [
    {
     "data": {
      "text/html": [
       "<div>\n",
       "<style scoped>\n",
       "    .dataframe tbody tr th:only-of-type {\n",
       "        vertical-align: middle;\n",
       "    }\n",
       "\n",
       "    .dataframe tbody tr th {\n",
       "        vertical-align: top;\n",
       "    }\n",
       "\n",
       "    .dataframe thead th {\n",
       "        text-align: right;\n",
       "    }\n",
       "</style>\n",
       "<table border=\"1\" class=\"dataframe\">\n",
       "  <thead>\n",
       "    <tr style=\"text-align: right;\">\n",
       "      <th></th>\n",
       "      <th>Product code</th>\n",
       "      <th>Bureau of Meteorology station number</th>\n",
       "      <th>Year</th>\n",
       "      <th>Month</th>\n",
       "      <th>Day</th>\n",
       "      <th>Maximum temperature (Degree C)</th>\n",
       "      <th>Days of accumulation of maximum temperature</th>\n",
       "      <th>Quality</th>\n",
       "    </tr>\n",
       "  </thead>\n",
       "  <tbody>\n",
       "    <tr>\n",
       "      <th>0</th>\n",
       "      <td>IDCJAC0010</td>\n",
       "      <td>9225</td>\n",
       "      <td>2018</td>\n",
       "      <td>1</td>\n",
       "      <td>1</td>\n",
       "      <td>34.0</td>\n",
       "      <td>1</td>\n",
       "      <td>Y</td>\n",
       "    </tr>\n",
       "    <tr>\n",
       "      <th>1</th>\n",
       "      <td>IDCJAC0010</td>\n",
       "      <td>9225</td>\n",
       "      <td>2018</td>\n",
       "      <td>1</td>\n",
       "      <td>2</td>\n",
       "      <td>37.7</td>\n",
       "      <td>1</td>\n",
       "      <td>Y</td>\n",
       "    </tr>\n",
       "    <tr>\n",
       "      <th>2</th>\n",
       "      <td>IDCJAC0010</td>\n",
       "      <td>9225</td>\n",
       "      <td>2018</td>\n",
       "      <td>1</td>\n",
       "      <td>3</td>\n",
       "      <td>29.8</td>\n",
       "      <td>1</td>\n",
       "      <td>Y</td>\n",
       "    </tr>\n",
       "    <tr>\n",
       "      <th>3</th>\n",
       "      <td>IDCJAC0010</td>\n",
       "      <td>9225</td>\n",
       "      <td>2018</td>\n",
       "      <td>1</td>\n",
       "      <td>4</td>\n",
       "      <td>30.9</td>\n",
       "      <td>1</td>\n",
       "      <td>Y</td>\n",
       "    </tr>\n",
       "    <tr>\n",
       "      <th>4</th>\n",
       "      <td>IDCJAC0010</td>\n",
       "      <td>9225</td>\n",
       "      <td>2018</td>\n",
       "      <td>1</td>\n",
       "      <td>5</td>\n",
       "      <td>26.1</td>\n",
       "      <td>1</td>\n",
       "      <td>Y</td>\n",
       "    </tr>\n",
       "  </tbody>\n",
       "</table>\n",
       "</div>"
      ],
      "text/plain": [
       "  Product code  Bureau of Meteorology station number  Year  Month  Day  \\\n",
       "0   IDCJAC0010                                  9225  2018      1    1   \n",
       "1   IDCJAC0010                                  9225  2018      1    2   \n",
       "2   IDCJAC0010                                  9225  2018      1    3   \n",
       "3   IDCJAC0010                                  9225  2018      1    4   \n",
       "4   IDCJAC0010                                  9225  2018      1    5   \n",
       "\n",
       "   Maximum temperature (Degree C)  \\\n",
       "0                            34.0   \n",
       "1                            37.7   \n",
       "2                            29.8   \n",
       "3                            30.9   \n",
       "4                            26.1   \n",
       "\n",
       "   Days of accumulation of maximum temperature Quality  \n",
       "0                                            1       Y  \n",
       "1                                            1       Y  \n",
       "2                                            1       Y  \n",
       "3                                            1       Y  \n",
       "4                                            1       Y  "
      ]
     },
     "execution_count": 56,
     "metadata": {},
     "output_type": "execute_result"
    }
   ],
   "source": [
    "temperature_data = load_temperature() ##load the training data\n",
    "temperature_data.head() ##confirm the load was successful and view the columns"
   ]
  },
  {
   "cell_type": "code",
   "execution_count": 57,
   "metadata": {},
   "outputs": [
    {
     "name": "stdout",
     "output_type": "stream",
     "text": [
      "Column breakdown for Temperature Data\n",
      "\n",
      "<class 'pandas.core.frame.DataFrame'>\n",
      "RangeIndex: 365 entries, 0 to 364\n",
      "Data columns (total 8 columns):\n",
      "Product code                                   365 non-null object\n",
      "Bureau of Meteorology station number           365 non-null int64\n",
      "Year                                           365 non-null int64\n",
      "Month                                          365 non-null int64\n",
      "Day                                            365 non-null int64\n",
      "Maximum temperature (Degree C)                 365 non-null float64\n",
      "Days of accumulation of maximum temperature    365 non-null int64\n",
      "Quality                                        365 non-null object\n",
      "dtypes: float64(1), int64(5), object(2)\n",
      "memory usage: 22.9+ KB\n",
      "None\n",
      "___________________________________________________________\n",
      "\n",
      "\n",
      "Column breakdown for Solar Data\n",
      "\n",
      "<class 'pandas.core.frame.DataFrame'>\n",
      "RangeIndex: 365 entries, 0 to 364\n",
      "Data columns (total 6 columns):\n",
      "Product code                            365 non-null object\n",
      "Bureau of Meteorology station number    365 non-null int64\n",
      "Year                                    365 non-null int64\n",
      "Month                                   365 non-null int64\n",
      "Day                                     365 non-null int64\n",
      "Daily global solar exposure (MJ/m*m)    365 non-null float64\n",
      "dtypes: float64(1), int64(4), object(1)\n",
      "memory usage: 17.2+ KB\n",
      "None\n"
     ]
    }
   ],
   "source": [
    "print(\"Column breakdown for Temperature Data\\n\")\n",
    "print(temperature_data.info())\n",
    "print(\"___________________________________________________________\")\n",
    "print(\"\\n\\nColumn breakdown for Solar Data\\n\")\n",
    "print(solar_data.info())"
   ]
  },
  {
   "cell_type": "code",
   "execution_count": 58,
   "metadata": {},
   "outputs": [
    {
     "data": {
      "text/html": [
       "<div>\n",
       "<style scoped>\n",
       "    .dataframe tbody tr th:only-of-type {\n",
       "        vertical-align: middle;\n",
       "    }\n",
       "\n",
       "    .dataframe tbody tr th {\n",
       "        vertical-align: top;\n",
       "    }\n",
       "\n",
       "    .dataframe thead th {\n",
       "        text-align: right;\n",
       "    }\n",
       "</style>\n",
       "<table border=\"1\" class=\"dataframe\">\n",
       "  <thead>\n",
       "    <tr style=\"text-align: right;\">\n",
       "      <th></th>\n",
       "      <th>Bureau of Meteorology station number</th>\n",
       "      <th>Year</th>\n",
       "      <th>Month</th>\n",
       "      <th>Day</th>\n",
       "      <th>Maximum temperature (Degree C)</th>\n",
       "      <th>Days of accumulation of maximum temperature</th>\n",
       "    </tr>\n",
       "  </thead>\n",
       "  <tbody>\n",
       "    <tr>\n",
       "      <th>count</th>\n",
       "      <td>365.0</td>\n",
       "      <td>365.0</td>\n",
       "      <td>365.000000</td>\n",
       "      <td>365.000000</td>\n",
       "      <td>365.000000</td>\n",
       "      <td>365.0</td>\n",
       "    </tr>\n",
       "    <tr>\n",
       "      <th>mean</th>\n",
       "      <td>9225.0</td>\n",
       "      <td>2018.0</td>\n",
       "      <td>6.526027</td>\n",
       "      <td>15.720548</td>\n",
       "      <td>24.654795</td>\n",
       "      <td>1.0</td>\n",
       "    </tr>\n",
       "    <tr>\n",
       "      <th>std</th>\n",
       "      <td>0.0</td>\n",
       "      <td>0.0</td>\n",
       "      <td>3.452584</td>\n",
       "      <td>8.808321</td>\n",
       "      <td>5.566018</td>\n",
       "      <td>0.0</td>\n",
       "    </tr>\n",
       "    <tr>\n",
       "      <th>min</th>\n",
       "      <td>9225.0</td>\n",
       "      <td>2018.0</td>\n",
       "      <td>1.000000</td>\n",
       "      <td>1.000000</td>\n",
       "      <td>14.100000</td>\n",
       "      <td>1.0</td>\n",
       "    </tr>\n",
       "    <tr>\n",
       "      <th>25%</th>\n",
       "      <td>9225.0</td>\n",
       "      <td>2018.0</td>\n",
       "      <td>4.000000</td>\n",
       "      <td>8.000000</td>\n",
       "      <td>20.000000</td>\n",
       "      <td>1.0</td>\n",
       "    </tr>\n",
       "    <tr>\n",
       "      <th>50%</th>\n",
       "      <td>9225.0</td>\n",
       "      <td>2018.0</td>\n",
       "      <td>7.000000</td>\n",
       "      <td>16.000000</td>\n",
       "      <td>24.200000</td>\n",
       "      <td>1.0</td>\n",
       "    </tr>\n",
       "    <tr>\n",
       "      <th>75%</th>\n",
       "      <td>9225.0</td>\n",
       "      <td>2018.0</td>\n",
       "      <td>10.000000</td>\n",
       "      <td>23.000000</td>\n",
       "      <td>28.700000</td>\n",
       "      <td>1.0</td>\n",
       "    </tr>\n",
       "    <tr>\n",
       "      <th>max</th>\n",
       "      <td>9225.0</td>\n",
       "      <td>2018.0</td>\n",
       "      <td>12.000000</td>\n",
       "      <td>31.000000</td>\n",
       "      <td>41.200000</td>\n",
       "      <td>1.0</td>\n",
       "    </tr>\n",
       "  </tbody>\n",
       "</table>\n",
       "</div>"
      ],
      "text/plain": [
       "       Bureau of Meteorology station number    Year       Month         Day  \\\n",
       "count                                 365.0   365.0  365.000000  365.000000   \n",
       "mean                                 9225.0  2018.0    6.526027   15.720548   \n",
       "std                                     0.0     0.0    3.452584    8.808321   \n",
       "min                                  9225.0  2018.0    1.000000    1.000000   \n",
       "25%                                  9225.0  2018.0    4.000000    8.000000   \n",
       "50%                                  9225.0  2018.0    7.000000   16.000000   \n",
       "75%                                  9225.0  2018.0   10.000000   23.000000   \n",
       "max                                  9225.0  2018.0   12.000000   31.000000   \n",
       "\n",
       "       Maximum temperature (Degree C)  \\\n",
       "count                      365.000000   \n",
       "mean                        24.654795   \n",
       "std                          5.566018   \n",
       "min                         14.100000   \n",
       "25%                         20.000000   \n",
       "50%                         24.200000   \n",
       "75%                         28.700000   \n",
       "max                         41.200000   \n",
       "\n",
       "       Days of accumulation of maximum temperature  \n",
       "count                                        365.0  \n",
       "mean                                           1.0  \n",
       "std                                            0.0  \n",
       "min                                            1.0  \n",
       "25%                                            1.0  \n",
       "50%                                            1.0  \n",
       "75%                                            1.0  \n",
       "max                                            1.0  "
      ]
     },
     "execution_count": 58,
     "metadata": {},
     "output_type": "execute_result"
    }
   ],
   "source": [
    "temperature_data.describe()"
   ]
  },
  {
   "cell_type": "code",
   "execution_count": 59,
   "metadata": {},
   "outputs": [
    {
     "data": {
      "text/html": [
       "<div>\n",
       "<style scoped>\n",
       "    .dataframe tbody tr th:only-of-type {\n",
       "        vertical-align: middle;\n",
       "    }\n",
       "\n",
       "    .dataframe tbody tr th {\n",
       "        vertical-align: top;\n",
       "    }\n",
       "\n",
       "    .dataframe thead th {\n",
       "        text-align: right;\n",
       "    }\n",
       "</style>\n",
       "<table border=\"1\" class=\"dataframe\">\n",
       "  <thead>\n",
       "    <tr style=\"text-align: right;\">\n",
       "      <th></th>\n",
       "      <th>Bureau of Meteorology station number</th>\n",
       "      <th>Year</th>\n",
       "      <th>Month</th>\n",
       "      <th>Day</th>\n",
       "      <th>Daily global solar exposure (MJ/m*m)</th>\n",
       "    </tr>\n",
       "  </thead>\n",
       "  <tbody>\n",
       "    <tr>\n",
       "      <th>count</th>\n",
       "      <td>365.0</td>\n",
       "      <td>365.0</td>\n",
       "      <td>365.000000</td>\n",
       "      <td>365.000000</td>\n",
       "      <td>365.000000</td>\n",
       "    </tr>\n",
       "    <tr>\n",
       "      <th>mean</th>\n",
       "      <td>9225.0</td>\n",
       "      <td>2018.0</td>\n",
       "      <td>6.526027</td>\n",
       "      <td>15.720548</td>\n",
       "      <td>18.883014</td>\n",
       "    </tr>\n",
       "    <tr>\n",
       "      <th>std</th>\n",
       "      <td>0.0</td>\n",
       "      <td>0.0</td>\n",
       "      <td>3.452584</td>\n",
       "      <td>8.808321</td>\n",
       "      <td>7.771997</td>\n",
       "    </tr>\n",
       "    <tr>\n",
       "      <th>min</th>\n",
       "      <td>9225.0</td>\n",
       "      <td>2018.0</td>\n",
       "      <td>1.000000</td>\n",
       "      <td>1.000000</td>\n",
       "      <td>2.900000</td>\n",
       "    </tr>\n",
       "    <tr>\n",
       "      <th>25%</th>\n",
       "      <td>9225.0</td>\n",
       "      <td>2018.0</td>\n",
       "      <td>4.000000</td>\n",
       "      <td>8.000000</td>\n",
       "      <td>12.200000</td>\n",
       "    </tr>\n",
       "    <tr>\n",
       "      <th>50%</th>\n",
       "      <td>9225.0</td>\n",
       "      <td>2018.0</td>\n",
       "      <td>7.000000</td>\n",
       "      <td>16.000000</td>\n",
       "      <td>17.900000</td>\n",
       "    </tr>\n",
       "    <tr>\n",
       "      <th>75%</th>\n",
       "      <td>9225.0</td>\n",
       "      <td>2018.0</td>\n",
       "      <td>10.000000</td>\n",
       "      <td>23.000000</td>\n",
       "      <td>25.500000</td>\n",
       "    </tr>\n",
       "    <tr>\n",
       "      <th>max</th>\n",
       "      <td>9225.0</td>\n",
       "      <td>2018.0</td>\n",
       "      <td>12.000000</td>\n",
       "      <td>31.000000</td>\n",
       "      <td>32.000000</td>\n",
       "    </tr>\n",
       "  </tbody>\n",
       "</table>\n",
       "</div>"
      ],
      "text/plain": [
       "       Bureau of Meteorology station number    Year       Month         Day  \\\n",
       "count                                 365.0   365.0  365.000000  365.000000   \n",
       "mean                                 9225.0  2018.0    6.526027   15.720548   \n",
       "std                                     0.0     0.0    3.452584    8.808321   \n",
       "min                                  9225.0  2018.0    1.000000    1.000000   \n",
       "25%                                  9225.0  2018.0    4.000000    8.000000   \n",
       "50%                                  9225.0  2018.0    7.000000   16.000000   \n",
       "75%                                  9225.0  2018.0   10.000000   23.000000   \n",
       "max                                  9225.0  2018.0   12.000000   31.000000   \n",
       "\n",
       "       Daily global solar exposure (MJ/m*m)  \n",
       "count                            365.000000  \n",
       "mean                              18.883014  \n",
       "std                                7.771997  \n",
       "min                                2.900000  \n",
       "25%                               12.200000  \n",
       "50%                               17.900000  \n",
       "75%                               25.500000  \n",
       "max                               32.000000  "
      ]
     },
     "execution_count": 59,
     "metadata": {},
     "output_type": "execute_result"
    }
   ],
   "source": [
    "solar_data.describe()"
   ]
  },
  {
   "cell_type": "code",
   "execution_count": 60,
   "metadata": {},
   "outputs": [
    {
     "data": {
      "image/png": "[encoded data removed]",
      "text/plain": [
       "<Figure size 648x288 with 2 Axes>"
      ]
     },
     "metadata": {
      "needs_background": "light"
     },
     "output_type": "display_data"
    }
   ],
   "source": [
    "%matplotlib inline\n",
    "import matplotlib.pyplot as plt\n",
    "plt.subplot(1, 2, 1)\n",
    "solar_data[\"Daily global solar exposure (MJ/m*m)\"].hist(bins=50, figsize=(9,4))\n",
    "plt.title('Daily Global Solar Exposure Frequency')\n",
    "plt.xlabel('MJ/m*m')\n",
    "\n",
    "\n",
    "plt.subplot(1, 2, 2)\n",
    "temperature_data[\"Maximum temperature (Degree C)\"].hist(bins=50, figsize=(9,4))\n",
    "plt.title('Daily Maximum Temperature Frequency Table')\n",
    "plt.xlabel('Degree C')\n",
    "plt.tight_layout()\n",
    "plt.show()\n",
    "\n"
   ]
  },
  {
   "cell_type": "code",
   "execution_count": 61,
   "metadata": {},
   "outputs": [
    {
     "data": {
      "text/plain": [
       "Text(0, 0.5, 'Maximum temperature (Degree C)')"
      ]
     },
     "execution_count": 61,
     "metadata": {},
     "output_type": "execute_result"
    },
    {
     "data": {
      "image/png": "[encoded data removed]",
      "text/plain": [
       "<Figure size 432x288 with 1 Axes>"
      ]
     },
     "metadata": {
      "needs_background": "light"
     },
     "output_type": "display_data"
    }
   ],
   "source": [
    "plt.scatter(solar_data[\"Daily global solar exposure (MJ/m*m)\"], temperature_data[\"Maximum temperature (Degree C)\"])\n",
    "plt.title('Daily Global Solar Exposure against Maximum Temperature')\n",
    "plt.xlabel('Daily Global Exposure')\n",
    "plt.ylabel('Maximum temperature (Degree C)')"
   ]
  },
  {
   "cell_type": "markdown",
   "metadata": {},
   "source": [
    "## Analysis\n",
    "\n",
    "First we can note that all data was taken from the same station in the same year, these columns will be of no use and can be dropped. Secondly the solar exposure seems to be bi-modal on the extreme ends but the daily maximum temperature uni- modal. It looks as there is a small positive correlation between the daily exposure and the daily temperature, but it looks too 'weak' for any direct correlation models to work. This is not a surprise as temperature/wind etc will play a large role in maximum temperature. So using months/days will be an important feature.\n",
    "\n",
    "Finally, we can consider how to handle 'days' it might be too high variance within a month (which we want to be the element to determine the seasonal aspects). So for especially the unscaled version the model will ALSO be trained with the days dropped to prevent any 'overfitting' against the days feature. The year split into 12 categories might be underfitting the model so a third model will be trained. The third model will split each month into two 'half-months'.\n",
    "\n",
    "I expect the days and months model to be significantly worse in the unscaled SVM Regressor.\n"
   ]
  },
  {
   "cell_type": "code",
   "execution_count": 62,
   "metadata": {},
   "outputs": [
    {
     "data": {
      "text/plain": [
       "0    34.0\n",
       "1    37.7\n",
       "2    29.8\n",
       "3    30.9\n",
       "4    26.1\n",
       "Name: Maximum temperature (Degree C), dtype: float64"
      ]
     },
     "execution_count": 62,
     "metadata": {},
     "output_type": "execute_result"
    }
   ],
   "source": [
    "temperatures_only = temperature_data[\"Maximum temperature (Degree C)\"]\n",
    "temperatures_only.head()"
   ]
  },
  {
   "cell_type": "code",
   "execution_count": 63,
   "metadata": {},
   "outputs": [
    {
     "name": "stderr",
     "output_type": "stream",
     "text": [
      "C:\\Users\\schee\\AppData\\Local\\conda\\conda\\envs\\mlenv\\lib\\site-packages\\ipykernel_launcher.py:9: SettingWithCopyWarning: \n",
      "A value is trying to be set on a copy of a slice from a DataFrame.\n",
      "Try using .loc[row_indexer,col_indexer] = value instead\n",
      "\n",
      "See the caveats in the documentation: http://pandas.pydata.org/pandas-docs/stable/indexing.html#indexing-view-versus-copy\n",
      "  if __name__ == '__main__':\n"
     ]
    }
   ],
   "source": [
    "## GET THE DATA READY FOR THE 3 DIFFERENT MODELS \n",
    "\n",
    "solar_only = solar_data[\"Daily global solar exposure (MJ/m*m)\"]\n",
    "solar_months_days = solar_data[[\"Month\", \"Day\", \"Daily global solar exposure (MJ/m*m)\"]]\n",
    "solar_months = solar_data[[\"Month\", \"Daily global solar exposure (MJ/m*m)\"]]\n",
    "solar_halfMonths =  solar_data[[\"Month\", \"Day\", \"Daily global solar exposure (MJ/m*m)\"]]\n",
    "\n",
    "## Create the 'half-months' \n",
    "solar_halfMonths[\"Half-Month\"] = solar_halfMonths[\"Month\"]*2 - (solar_halfMonths[\"Day\"].copy() < 15)\n",
    "solar_halfMonths = solar_halfMonths[[\"Half-Month\",\"Daily global solar exposure (MJ/m*m)\"]]\n",
    "\n",
    "#Glue on temperature to make the split easier\n",
    "solar_only = pd.concat([solar_only, temperatures_only], axis=1)\n",
    "solar_months_days = pd.concat([solar_months_days, temperatures_only], axis=1)\n",
    "solar_months = pd.concat([solar_months, temperatures_only], axis=1)\n",
    "solar_halfMonths = pd.concat([solar_halfMonths, temperatures_only], axis=1)"
   ]
  },
  {
   "cell_type": "markdown",
   "metadata": {},
   "source": [
    "## Split the data\n",
    "\n",
    "Here we are randomly splitting the data (for each of the three variations of features)."
   ]
  },
  {
   "cell_type": "code",
   "execution_count": 64,
   "metadata": {},
   "outputs": [],
   "source": [
    "from sklearn.model_selection import train_test_split\n",
    "train_set_solar_only, test_set_solar_only = train_test_split(solar_only, test_size=0.2, random_state=42)\n",
    "train_set_months_days, test_set_months_days = train_test_split(solar_months_days, test_size=0.2, random_state=42)\n",
    "train_set_solar_months, test_set_solar_months = train_test_split(solar_months, test_size=0.2, random_state=42)\n",
    "train_set_solar_halfMonths, test_set_solar_halfMonths = train_test_split(solar_halfMonths, test_size=0.2, random_state=42)"
   ]
  },
  {
   "cell_type": "code",
   "execution_count": 65,
   "metadata": {},
   "outputs": [],
   "source": [
    "trainX_set_solar_only = train_set_solar_only[\"Daily global solar exposure (MJ/m*m)\"]\n",
    "trainX_set_months_days = train_set_months_days[[\"Month\", \"Day\", \"Daily global solar exposure (MJ/m*m)\"]]\n",
    "trainX_set_solar_months = train_set_solar_months[[\"Month\", \"Daily global solar exposure (MJ/m*m)\"]]\n",
    "trainX_set_solar_halfMonths = train_set_solar_halfMonths[[\"Half-Month\",\"Daily global solar exposure (MJ/m*m)\"]]\n",
    "\n",
    "trainY_set_solar_only = train_set_solar_only[\"Maximum temperature (Degree C)\"]\n",
    "trainY_set_months_days = train_set_months_days[\"Maximum temperature (Degree C)\"]\n",
    "trainY_set_solar_months = train_set_solar_months[\"Maximum temperature (Degree C)\"]\n",
    "trainY_set_solar_halfMonths = train_set_solar_halfMonths[\"Maximum temperature (Degree C)\"]\n",
    "\n",
    "testX_set_solar_only = test_set_solar_only[\"Daily global solar exposure (MJ/m*m)\"]\n",
    "testX_set_months_days = test_set_months_days[[\"Month\", \"Day\", \"Daily global solar exposure (MJ/m*m)\"]]\n",
    "testX_set_solar_months = test_set_solar_months[[\"Month\", \"Daily global solar exposure (MJ/m*m)\"]]\n",
    "testX_set_solar_halfMonths = test_set_solar_halfMonths[[\"Half-Month\",\"Daily global solar exposure (MJ/m*m)\"]]\n",
    "\n",
    "testY_set_solar_only = test_set_solar_only[\"Maximum temperature (Degree C)\"]\n",
    "testY_set_months_days = test_set_months_days[\"Maximum temperature (Degree C)\"]\n",
    "testY_set_solar_months = test_set_solar_months[\"Maximum temperature (Degree C)\"]\n",
    "testY_set_solar_halfMonths = test_set_solar_halfMonths[\"Maximum temperature (Degree C)\"]\n"
   ]
  },
  {
   "cell_type": "markdown",
   "metadata": {},
   "source": [
    "## Not Scaled SVM- REGRESSION\n",
    "### Using Guassian RBF Kernel\n",
    "\n",
    "The SVM regressors will be trained using the guassing rbf kernel\n",
    "\n",
    "### Performance Measure\n",
    "\n",
    "The models will be trained and then the performance will be measured against the training data using cross validation. Here is where we would fine-tune the models. \n",
    "\n",
    "Then when comparing the models we will be measuring their performance against the testing data.\n",
    "\n",
    "Since this is a regression problem the Mean Square Error is an appropriate measure of performance."
   ]
  },
  {
   "cell_type": "code",
   "execution_count": 66,
   "metadata": {},
   "outputs": [],
   "source": [
    "from sklearn.svm import SVR\n",
    "#three models across the three variations in the data sets.\n",
    "svr_rbf_md = SVR(kernel='rbf', gamma = 'auto') #md = month + day\n",
    "svr_rbf_m = SVR(kernel='rbf', gamma = 'auto') #m = month only\n",
    "svr_rbf_hm = SVR(kernel='rbf', gamma = 'auto') #hm = half-month"
   ]
  },
  {
   "cell_type": "code",
   "execution_count": 67,
   "metadata": {},
   "outputs": [
    {
     "data": {
      "text/plain": [
       "SVR(C=1.0, cache_size=200, coef0=0.0, degree=3, epsilon=0.1, gamma='auto',\n",
       "  kernel='rbf', max_iter=-1, shrinking=True, tol=0.001, verbose=False)"
      ]
     },
     "execution_count": 67,
     "metadata": {},
     "output_type": "execute_result"
    }
   ],
   "source": [
    "\n",
    "#svr_rbf_so.fit(trainX_set_solar_only, trainY_set_solar_only)\n",
    "svr_rbf_md.fit(trainX_set_months_days, trainY_set_months_days)\n",
    "svr_rbf_m.fit(trainX_set_solar_months, trainY_set_solar_months)\n",
    "svr_rbf_hm.fit(trainX_set_solar_halfMonths, trainY_set_solar_halfMonths)"
   ]
  },
  {
   "cell_type": "code",
   "execution_count": 68,
   "metadata": {},
   "outputs": [],
   "source": [
    "pred_md = cross_val_predict(svr_rbf_md, trainX_set_months_days, trainY_set_months_days, cv = 3)\n",
    "pred_m = cross_val_predict(svr_rbf_m, trainX_set_solar_months, trainY_set_solar_months, cv = 3)\n",
    "pred_hm = cross_val_predict(svr_rbf_hm, trainX_set_solar_halfMonths, trainY_set_solar_halfMonths, cv = 3)"
   ]
  },
  {
   "cell_type": "code",
   "execution_count": 69,
   "metadata": {},
   "outputs": [
    {
     "name": "stdout",
     "output_type": "stream",
     "text": [
      "Performance against the training data by cross validation :\n",
      "MSE for Months and Days:\n",
      "25.732663309329613\n",
      "\n",
      "\n",
      "MSE for Months only:\n",
      "13.7966600009663\n",
      "\n",
      "\n",
      "MSE for Half-Months:\n",
      "16.056934437514315\n"
     ]
    }
   ],
   "source": [
    "from sklearn.metrics import mean_squared_error\n",
    "\n",
    "print(\"Performance against the training data by cross validation :\")\n",
    "\n",
    "print(\"MSE for Months and Days:\")\n",
    "print(mean_squared_error(trainY_set_months_days, pred_md))\n",
    "print(\"\\n\")\n",
    "print(\"MSE for Months only:\")\n",
    "print(mean_squared_error(trainY_set_solar_months, pred_m))\n",
    "print(\"\\n\")\n",
    "print(\"MSE for Half-Months:\")\n",
    "print(mean_squared_error(trainY_set_solar_halfMonths, pred_hm))"
   ]
  },
  {
   "cell_type": "markdown",
   "metadata": {},
   "source": [
    "We measure the performance using Mean Square Error, For the unscaled data the months and days performed the worse. The Months only perfromed the best."
   ]
  },
  {
   "cell_type": "markdown",
   "metadata": {},
   "source": [
    "## Scaled SVM- REGRESSION\n",
    "### Using Guassian RBF Kernel\n",
    "\n",
    "We will now scale the data, it was scaled using min max scaler (it performed better than the standard scaler). The days and months can be better modelled with a 'uniform distribution' and can be treated as catagorical, fututre fine-tuning can be done here to construct a scaler that perseves this nature better."
   ]
  },
  {
   "cell_type": "code",
   "execution_count": 70,
   "metadata": {},
   "outputs": [
    {
     "name": "stderr",
     "output_type": "stream",
     "text": [
      "C:\\Users\\schee\\AppData\\Local\\conda\\conda\\envs\\mlenv\\lib\\site-packages\\sklearn\\preprocessing\\data.py:323: DataConversionWarning: Data with input dtype int64, float64 were all converted to float64 by MinMaxScaler.\n",
      "  return self.partial_fit(X, y)\n",
      "C:\\Users\\schee\\AppData\\Local\\conda\\conda\\envs\\mlenv\\lib\\site-packages\\sklearn\\preprocessing\\data.py:323: DataConversionWarning: Data with input dtype int64, float64 were all converted to float64 by MinMaxScaler.\n",
      "  return self.partial_fit(X, y)\n",
      "C:\\Users\\schee\\AppData\\Local\\conda\\conda\\envs\\mlenv\\lib\\site-packages\\sklearn\\preprocessing\\data.py:323: DataConversionWarning: Data with input dtype int64, float64 were all converted to float64 by MinMaxScaler.\n",
      "  return self.partial_fit(X, y)\n"
     ]
    }
   ],
   "source": [
    "from sklearn.pipeline import Pipeline\n",
    "from sklearn.preprocessing import StandardScaler\n",
    "from sklearn.preprocessing import MinMaxScaler\n",
    "\n",
    "pipeline = Pipeline([\n",
    "        ('std_scaler', MinMaxScaler()),\n",
    "])\n",
    "\n",
    "pipeline2 = Pipeline([\n",
    "        ('std_scaler', MinMaxScaler()),\n",
    "])\n",
    "\n",
    "trainX_set_md_scaled = pipeline2.fit_transform(trainX_set_months_days)\n",
    "trainX_set_m_scaled = pipeline.fit_transform(trainX_set_solar_months)\n",
    "trainX_set_hm_scaled = pipeline.fit_transform(trainX_set_solar_halfMonths)\n",
    "\n",
    "testX_set_md_scaled = pipeline2.transform(testX_set_months_days)\n",
    "testX_set_m_scaled = pipeline.transform(testX_set_solar_months)\n",
    "testX_set_hm_scaled = pipeline.transform(testX_set_solar_halfMonths)\n",
    "\n"
   ]
  },
  {
   "cell_type": "code",
   "execution_count": 71,
   "metadata": {},
   "outputs": [
    {
     "name": "stdout",
     "output_type": "stream",
     "text": [
      "Performance against the training data by cross validation :\n",
      "MSE for Months and Days:\n",
      "15.262288289877155\n",
      "\n",
      "\n",
      "MSE for Months only:\n",
      "14.004405798874032\n",
      "\n",
      "\n",
      "MSE for Half-Months:\n",
      "14.110230087252571\n"
     ]
    }
   ],
   "source": [
    "svr_rbf_mds = SVR(kernel='rbf', gamma = 'auto')\n",
    "svr_rbf_ms = SVR(kernel='rbf', gamma = 'auto')\n",
    "svr_rbf_hms = SVR(kernel='rbf', gamma = 'auto')\n",
    "\n",
    "svr_rbf_mds.fit(trainX_set_md_scaled, trainY_set_months_days)\n",
    "svr_rbf_ms.fit(trainX_set_m_scaled, trainY_set_solar_months)\n",
    "svr_rbf_hms.fit(trainX_set_hm_scaled, trainY_set_solar_halfMonths)\n",
    "\n",
    "pred_mds = cross_val_predict(svr_rbf_mds, trainX_set_md_scaled, trainY_set_months_days, cv = 3)\n",
    "pred_ms = cross_val_predict(svr_rbf_ms, trainX_set_m_scaled, trainY_set_solar_months, cv = 3)\n",
    "pred_hms = cross_val_predict(svr_rbf_hms, trainX_set_hm_scaled, trainY_set_solar_halfMonths, cv = 3)\n",
    "\n",
    "print(\"Performance against the training data by cross validation :\")\n",
    "\n",
    "print(\"MSE for Months and Days:\")\n",
    "print(mean_squared_error(trainY_set_months_days, pred_mds))\n",
    "print(\"\\n\")\n",
    "print(\"MSE for Months only:\")\n",
    "print(mean_squared_error(trainY_set_solar_months, pred_ms))\n",
    "print(\"\\n\")\n",
    "print(\"MSE for Half-Months:\")\n",
    "print(mean_squared_error(trainY_set_solar_halfMonths, pred_hms))\n"
   ]
  },
  {
   "cell_type": "markdown",
   "metadata": {},
   "source": [
    "The scaling seems to be performing a lot more consistantly between types."
   ]
  },
  {
   "cell_type": "markdown",
   "metadata": {},
   "source": [
    "## Comparing Scaled vs Unscaled SVM Regressor \n",
    "\n",
    "The models performance will now be tested against the testing set, again using MSE.\n",
    "\n",
    "The performance of the scaled and unscaled regressors will be compared."
   ]
  },
  {
   "cell_type": "code",
   "execution_count": 72,
   "metadata": {},
   "outputs": [
    {
     "name": "stdout",
     "output_type": "stream",
     "text": [
      "Unscaled:\n",
      "MSE for Months and Days:\n",
      "27.907072245647175\n",
      "\n",
      "\n",
      "MSE for Months only:\n",
      "13.479380722179558\n",
      "\n",
      "\n",
      "MSE for Half-Months:\n",
      "15.98691680822141\n"
     ]
    }
   ],
   "source": [
    "print(\"Unscaled:\")\n",
    "\n",
    "print(\"MSE for Months and Days:\")\n",
    "print(mean_squared_error(testY_set_months_days, svr_rbf_md.predict(testX_set_months_days)))\n",
    "print(\"\\n\")\n",
    "print(\"MSE for Months only:\")\n",
    "print(mean_squared_error(testY_set_solar_months, svr_rbf_m.predict(testX_set_solar_months)))\n",
    "print(\"\\n\")\n",
    "print(\"MSE for Half-Months:\")\n",
    "print(mean_squared_error(testY_set_solar_halfMonths, svr_rbf_hm.predict(testX_set_solar_halfMonths)))"
   ]
  },
  {
   "cell_type": "code",
   "execution_count": 73,
   "metadata": {},
   "outputs": [
    {
     "name": "stdout",
     "output_type": "stream",
     "text": [
      "Scaled:\n",
      "MSE for Months and Days:\n",
      "17.15399065078929\n",
      "\n",
      "\n",
      "MSE for Months only:\n",
      "16.56792469354087\n",
      "\n",
      "\n",
      "MSE for Half-Months:\n",
      "15.841366905927114\n"
     ]
    }
   ],
   "source": [
    "print(\"Scaled:\")\n",
    "\n",
    "print(\"MSE for Months and Days:\")\n",
    "print(mean_squared_error(testY_set_months_days, svr_rbf_mds.predict(testX_set_md_scaled)))\n",
    "print(\"\\n\")\n",
    "print(\"MSE for Months only:\")\n",
    "print(mean_squared_error(testY_set_solar_months, svr_rbf_ms.predict(testX_set_m_scaled)))\n",
    "print(\"\\n\")\n",
    "print(\"MSE for Half-Months:\")\n",
    "print(mean_squared_error(testY_set_solar_halfMonths, svr_rbf_hms.predict(testX_set_hm_scaled)))"
   ]
  },
  {
   "cell_type": "markdown",
   "metadata": {},
   "source": [
    "### Analysis \n",
    "\n",
    "The scaled data performs more consistantly between the features compared to the unscaled data. The unscaled data does significantly worse in the Months and Days variation. The unscaled performed better in the months only variation, this might be due to the fact that months are 'categorical' in nature within the context of the problem and its ordinal nature might not be important so the scaling could have allowed for overfitting/underfitting, lots of fine-tuning can be done here. \n",
    "\n",
    "The half-months scored the best for the scaled version and was very similar to the unscaled version. Futher work can be done here to maybe seperate the 'months' into categories that are more representitive of weather seasons."
   ]
  },
  {
   "cell_type": "markdown",
   "metadata": {},
   "source": [
    "## Training Decision Tree"
   ]
  },
  {
   "cell_type": "code",
   "execution_count": 74,
   "metadata": {},
   "outputs": [
    {
     "name": "stdout",
     "output_type": "stream",
     "text": [
      "Performance against the training data by cross validation :\n",
      "MSE for Months and Days:\n",
      "17.322123287671236\n",
      "\n",
      "\n",
      "MSE for Months only:\n",
      "19.4930051369863\n",
      "\n",
      "\n",
      "MSE for Half-Months:\n",
      "20.33112157534246\n"
     ]
    }
   ],
   "source": [
    "from sklearn.tree import DecisionTreeRegressor\n",
    "\n",
    "tree_reg_md = DecisionTreeRegressor()\n",
    "tree_reg_m = DecisionTreeRegressor()\n",
    "tree_reg_hm = DecisionTreeRegressor()\n",
    "\n",
    "tree_reg_md.fit(trainX_set_months_days, trainY_set_months_days)\n",
    "tree_reg_m.fit(trainX_set_solar_months, trainY_set_solar_months)\n",
    "tree_reg_hm.fit(trainX_set_solar_halfMonths, trainY_set_solar_halfMonths)\n",
    "\n",
    "pred_mds_tree = cross_val_predict(tree_reg_md, trainX_set_months_days, trainY_set_months_days, cv = 3)\n",
    "pred_ms_tree = cross_val_predict(tree_reg_m, trainX_set_solar_months, trainY_set_solar_months, cv = 3)\n",
    "pred_hms_tree = cross_val_predict(tree_reg_hm, trainX_set_solar_halfMonths, trainY_set_solar_halfMonths, cv = 3)\n",
    "\n",
    "\n",
    "print(\"Performance against the training data by cross validation :\")\n",
    "\n",
    "print(\"MSE for Months and Days:\")\n",
    "print(mean_squared_error(trainY_set_months_days, pred_mds_tree))\n",
    "print(\"\\n\")\n",
    "print(\"MSE for Months only:\")\n",
    "print(mean_squared_error(trainY_set_solar_months, pred_ms_tree))\n",
    "print(\"\\n\")\n",
    "print(\"MSE for Half-Months:\")\n",
    "print(mean_squared_error(trainY_set_solar_halfMonths, pred_hms_tree))"
   ]
  },
  {
   "cell_type": "markdown",
   "metadata": {},
   "source": [
    "The decicion tree scored the best in the day+months variation, but again thinking about the context the model can be very prone to overfitting the 'days'. This can be tested in the next section when the performance is measure against the testing data."
   ]
  },
  {
   "cell_type": "markdown",
   "metadata": {},
   "source": [
    "## Comparing Decision Tree against SVM "
   ]
  },
  {
   "cell_type": "code",
   "execution_count": 75,
   "metadata": {},
   "outputs": [
    {
     "name": "stdout",
     "output_type": "stream",
     "text": [
      "Scaled SVM:\n",
      "MSE for Months and Days:\n",
      "17.15399065078929\n",
      "\n",
      "\n",
      "MSE for Months only:\n",
      "16.56792469354087\n",
      "\n",
      "\n",
      "MSE for Half-Months:\n",
      "15.841366905927114\n"
     ]
    }
   ],
   "source": [
    "print(\"Scaled SVM:\")\n",
    "\n",
    "print(\"MSE for Months and Days:\")\n",
    "print(mean_squared_error(testY_set_months_days, svr_rbf_mds.predict(testX_set_md_scaled)))\n",
    "print(\"\\n\")\n",
    "print(\"MSE for Months only:\")\n",
    "print(mean_squared_error(testY_set_solar_months, svr_rbf_ms.predict(testX_set_m_scaled)))\n",
    "print(\"\\n\")\n",
    "print(\"MSE for Half-Months:\")\n",
    "print(mean_squared_error(testY_set_solar_halfMonths, svr_rbf_hms.predict(testX_set_hm_scaled)))"
   ]
  },
  {
   "cell_type": "code",
   "execution_count": 76,
   "metadata": {},
   "outputs": [
    {
     "name": "stdout",
     "output_type": "stream",
     "text": [
      "Decicion Tree:\n",
      "MSE for Months and Days:\n",
      "19.199726027397258\n",
      "\n",
      "\n",
      "MSE for Months only:\n",
      "16.702682648401826\n",
      "\n",
      "\n",
      "MSE for Half-Months:\n",
      "18.70472602739726\n"
     ]
    }
   ],
   "source": [
    "print(\"Decicion Tree:\")\n",
    "\n",
    "print(\"MSE for Months and Days:\")\n",
    "print(mean_squared_error(testY_set_months_days, tree_reg_md.predict(testX_set_months_days)))\n",
    "print(\"\\n\")\n",
    "print(\"MSE for Months only:\")\n",
    "print(mean_squared_error(testY_set_solar_months, tree_reg_m.predict(testX_set_solar_months)))\n",
    "print(\"\\n\")\n",
    "print(\"MSE for Half-Months:\")\n",
    "print(mean_squared_error(testY_set_solar_halfMonths, tree_reg_hm.predict(testX_set_solar_halfMonths)))"
   ]
  },
  {
   "cell_type": "markdown",
   "metadata": {},
   "source": [
    "## Analysis"
   ]
  },
  {
   "cell_type": "markdown",
   "metadata": {},
   "source": [
    "Both models scored very-similarly. The SVM scored slightly better in the \"Month and Day\" and \"Half Month\" variation. These errors are relatively large compared to the range of the max-temperatures (27). This is not too surprising given the very 'weak' correlation between the solar and max-temperature especially since the only other feature was the date (its seasonal association is also highly variable since the weather has a large range of behaviour within a season).\n",
    "\n",
    "Future improvements could include:\n",
    "\n",
    "More data, especially if more features can be measured.\n",
    "\n",
    "Fine-tuning, we did some fine-tuning with using different feature variation but no fine-tuning was done with hyperparameters.\n"
   ]
  },
  {
   "cell_type": "code",
   "execution_count": null,
   "metadata": {},
   "outputs": [],
   "source": []
  }
 ],
 "metadata": {
  "kernelspec": {
   "display_name": "Python 3",
   "language": "python",
   "name": "python3"
  },
  "language_info": {
   "codemirror_mode": {
    "name": "ipython",
    "version": 3
   },
   "file_extension": ".py",
   "mimetype": "text/x-python",
   "name": "python",
   "nbconvert_exporter": "python",
   "pygments_lexer": "ipython3",
   "version": "3.7.2"
  }
 },
 "nbformat": 4,
 "nbformat_minor": 2
}
